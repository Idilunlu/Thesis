{
 "cells": [
  {
   "cell_type": "markdown",
   "metadata": {},
   "source": [
    "This code is based on https://huggingface.co/stabilityai/stable-diffusion-x4-upscaler"
   ]
  },
  {
   "cell_type": "code",
   "execution_count": 2,
   "metadata": {},
   "outputs": [
    {
     "name": "stderr",
     "output_type": "stream",
     "text": [
      "/Users/idilunlu/miniconda3/envs/upscaler/lib/python3.9/site-packages/tqdm/auto.py:21: TqdmWarning: IProgress not found. Please update jupyter and ipywidgets. See https://ipywidgets.readthedocs.io/en/stable/user_install.html\n",
      "  from .autonotebook import tqdm as notebook_tqdm\n"
     ]
    }
   ],
   "source": [
    "import requests\n",
    "from PIL import Image\n",
    "from io import BytesIO\n",
    "from diffusers import StableDiffusionUpscalePipeline\n",
    "import torch\n",
    "import cv2\n",
    "import numpy as np"
   ]
  },
  {
   "cell_type": "code",
   "execution_count": 3,
   "metadata": {},
   "outputs": [
    {
     "name": "stderr",
     "output_type": "stream",
     "text": [
      "Loading pipeline components...: 100%|██████████| 6/6 [00:05<00:00,  1.17it/s]\n"
     ]
    }
   ],
   "source": [
    "model_id = \"stabilityai/stable-diffusion-x4-upscaler\"\n",
    "pipeline = StableDiffusionUpscalePipeline.from_pretrained(model_id, torch_dtype=torch.float16)\n",
    "pipeline = pipeline.to(\"mps\")"
   ]
  },
  {
   "cell_type": "code",
   "execution_count": 4,
   "metadata": {},
   "outputs": [],
   "source": [
    "url = \"https://huggingface.co/datasets/hf-internal-testing/diffusers-images/resolve/main/sd2-upscale/low_res_cat.png\"\n",
    "response = requests.get(url)\n",
    "low_res_img = Image.open(BytesIO(response.content)).convert(\"RGB\")\n",
    "low_res_img = low_res_img.resize((128, 128))"
   ]
  },
  {
   "cell_type": "code",
   "execution_count": 5,
   "metadata": {},
   "outputs": [
    {
     "name": "stdout",
     "output_type": "stream",
     "text": [
      "Original image size: 224 x 224\n"
     ]
    }
   ],
   "source": [
    "image_path = \"0_10.png\"  # Change this to the path of your image file\n",
    "low_res_img = Image.open(image_path).convert(\"RGB\")\n",
    "width, height = low_res_img.size\n",
    "print(\"Original image size:\", width, \"x\", height)\n",
    "#low_res_img = low_res_img.resize((128, 128))"
   ]
  },
  {
   "cell_type": "code",
   "execution_count": 6,
   "metadata": {},
   "outputs": [
    {
     "name": "stderr",
     "output_type": "stream",
     "text": [
      "100%|██████████| 75/75 [08:58<00:00,  7.18s/it]\n"
     ]
    }
   ],
   "source": [
    "prompt = \"high resolution image of a histopathology slide\"\n",
    "# this model doesn't work without text prompt \n",
    "# and the quality of generated image is highly dependent on the prompt\n",
    "upscaled_image = pipeline(prompt=prompt, image=low_res_img).images[0]\n",
    "upscaled_image.save(\"0_10_upsampled.png\")"
   ]
  },
  {
   "cell_type": "code",
   "execution_count": 45,
   "metadata": {},
   "outputs": [
    {
     "name": "stdout",
     "output_type": "stream",
     "text": [
      "<PIL.Image.Image image mode=RGB size=224x224 at 0x16B7123A0>\n",
      "(896, 896)\n"
     ]
    }
   ],
   "source": [
    "print(low_res_img)\n",
    "print(upscaled_image.size)"
   ]
  },
  {
   "cell_type": "markdown",
   "metadata": {},
   "source": [
    "### Next Steps\n",
    "Might actually make more sense to crop first and then upscale the image from the computational perspective"
   ]
  },
  {
   "cell_type": "code",
   "execution_count": 55,
   "metadata": {},
   "outputs": [],
   "source": [
    "def zoom_in(image_path, output_path):\n",
    "    # Load the image\n",
    "    img = cv2.imread(image_path)\n",
    "    if img is None:\n",
    "        print(\"Error: Image not found\")\n",
    "        return None\n",
    "\n",
    "    height, width = img.shape[:2]\n",
    "\n",
    "    # Calculate the coordinates of the new cropped region\n",
    "    new_width, new_height = width // 2, height // 2\n",
    "    x1, y1 = width // 4, height // 4  # Top left corner \n",
    "    x2, y2 = x1 + new_width, y1 + new_height  # Bottom right corner\n",
    "\n",
    "    # Crop the image\n",
    "    cropped_img = img[y1:y2, x1:x2]\n",
    "    print(\"Cropped image size:\", new_width, \"x\", new_height)\n",
    "\n",
    "    # # Resize the cropped image to half of the original image's resolution\n",
    "    # resized_img = cv2.resize(cropped_img, (width // 4, height // 4), \n",
    "    # interpolation=cv2.INTER_LINEAR)\n",
    "    # print(\"Resized image size:\", resized_img.shape[1], \"x\", resized_img.shape[0])\n",
    "\n",
    "    # return resized_img\n",
    "    cv2.imwrite(output_path, cropped_img)\n",
    "    return cropped_img"
   ]
  },
  {
   "cell_type": "code",
   "execution_count": 1,
   "metadata": {},
   "outputs": [
    {
     "ename": "NameError",
     "evalue": "name 'zoom_in' is not defined",
     "output_type": "error",
     "traceback": [
      "\u001b[0;31m---------------------------------------------------------------------------\u001b[0m",
      "\u001b[0;31mNameError\u001b[0m                                 Traceback (most recent call last)",
      "Cell \u001b[0;32mIn[1], line 4\u001b[0m\n\u001b[1;32m      2\u001b[0m out_image_path \u001b[38;5;241m=\u001b[39m \u001b[38;5;124m'\u001b[39m\u001b[38;5;124m0_20_zoomed.png\u001b[39m\u001b[38;5;124m'\u001b[39m\n\u001b[1;32m      3\u001b[0m out_image_path2 \u001b[38;5;241m=\u001b[39m \u001b[38;5;124m'\u001b[39m\u001b[38;5;124m0_40_zoomed.png\u001b[39m\u001b[38;5;124m'\u001b[39m\n\u001b[0;32m----> 4\u001b[0m zoomed_image_20x \u001b[38;5;241m=\u001b[39m \u001b[43mzoom_in\u001b[49m(image_path, out_image_path)\n\u001b[1;32m      5\u001b[0m zoomed_image_40x \u001b[38;5;241m=\u001b[39m zoom_in(out_image_path, out_image_path2 )\n",
      "\u001b[0;31mNameError\u001b[0m: name 'zoom_in' is not defined"
     ]
    }
   ],
   "source": [
    "image_path = '0_10_upsampled.png'\n",
    "out_image_path = '0_20_zoomed.png'\n",
    "out_image_path2 = '0_40_zoomed.png'\n",
    "zoomed_image_20x = zoom_in(image_path, out_image_path)\n",
    "zoomed_image_40x = zoom_in(out_image_path, out_image_path2 )"
   ]
  },
  {
   "cell_type": "code",
   "execution_count": 59,
   "metadata": {},
   "outputs": [
    {
     "name": "stdout",
     "output_type": "stream",
     "text": [
      "Original image size: 224 x 224\n"
     ]
    }
   ],
   "source": [
    "image_path = \"0_20.png\"  \n",
    "ground_truth20x = Image.open(image_path).convert(\"RGB\")\n",
    "width, height = ground_truth20x.size\n",
    "print(\"Original image size:\", width, \"x\", height)\n",
    "#ground_truth20x = ground_truth20x.resize((128, 128))"
   ]
  }
 ],
 "metadata": {
  "kernelspec": {
   "display_name": "upscaler",
   "language": "python",
   "name": "python3"
  },
  "language_info": {
   "codemirror_mode": {
    "name": "ipython",
    "version": 3
   },
   "file_extension": ".py",
   "mimetype": "text/x-python",
   "name": "python",
   "nbconvert_exporter": "python",
   "pygments_lexer": "ipython3",
   "version": "3.9.19"
  }
 },
 "nbformat": 4,
 "nbformat_minor": 2
}
