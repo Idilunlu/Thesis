{
 "cells": [
  {
   "cell_type": "code",
   "execution_count": 19,
   "metadata": {},
   "outputs": [],
   "source": [
    "import os\n",
    "import cv2\n",
    "import numpy as np\n",
    "from skimage.metrics import structural_similarity as ssim, peak_signal_noise_ratio as psnr, mean_squared_error as mse\n",
    "from PIL import Image\n",
    "from diffusers import StableDiffusionUpscalePipeline\n",
    "import torch\n",
    "from tensorflow.keras.applications.inception_v3 import InceptionV3, preprocess_input\n",
    "from scipy.linalg import sqrtm\n",
    "import matplotlib.pyplot as plt"
   ]
  },
  {
   "cell_type": "code",
   "execution_count": 29,
   "metadata": {},
   "outputs": [],
   "source": [
    "folder_path = '/Users/idilunlu/Desktop/upscaler/8624293b-7775-11eb-9a27-001a7dda7111'  # file_list = [f for f in os.listdir(folder_path) if f.endswith('_10.png')][:20]"
   ]
  },
  {
   "cell_type": "code",
   "execution_count": 21,
   "metadata": {},
   "outputs": [
    {
     "name": "stderr",
     "output_type": "stream",
     "text": [
      "Loading pipeline components...: 100%|██████████| 6/6 [00:09<00:00,  1.56s/it]\n"
     ]
    }
   ],
   "source": [
    "model_id = \"stabilityai/stable-diffusion-x4-upscaler\"\n",
    "pipeline = StableDiffusionUpscalePipeline.from_pretrained(model_id, torch_dtype=torch.float16)\n",
    "pipeline = pipeline.to(\"mps\")"
   ]
  },
  {
   "cell_type": "code",
   "execution_count": 22,
   "metadata": {},
   "outputs": [],
   "source": [
    "def generate_upscaled_images(image_path, prompt=\"high resolution image of a histopathology slide\"):\n",
    "    low_res_img = Image.open(image_path).convert(\"RGB\")\n",
    "    upscaled_image = pipeline(prompt=prompt, image=low_res_img).images[0]\n",
    "    return upscaled_image"
   ]
  },
  {
   "cell_type": "code",
   "execution_count": 23,
   "metadata": {},
   "outputs": [],
   "source": [
    "def zoom_in(image_path, output_path):\n",
    "    img = cv2.imread(image_path)\n",
    "    if img is None:\n",
    "        print(\"Error: Image not found\")\n",
    "        return None\n",
    "\n",
    "    height, width = img.shape[:2]\n",
    "    new_width, new_height = width // 2, height // 2\n",
    "    x1, y1 = width // 4, height // 4\n",
    "    x2, y2 = x1 + new_width, y1 + new_height\n",
    "    cropped_img = img[y1:y2, x1:x2]\n",
    "\n",
    "    cv2.imwrite(output_path, cropped_img)\n",
    "    return cropped_img"
   ]
  },
  {
   "cell_type": "code",
   "execution_count": 32,
   "metadata": {},
   "outputs": [
    {
     "name": "stderr",
     "output_type": "stream",
     "text": [
      "100%|██████████| 75/75 [09:17<00:00,  7.43s/it]\n"
     ]
    },
    {
     "name": "stdout",
     "output_type": "stream",
     "text": [
      "217_20.png dimensions: (224, 224, 3)\n",
      "217_20_generated.png dimensions: (224, 224, 3)\n",
      "217_40.png dimensions: (224, 224, 3)\n",
      "217_40_generated.png dimensions: (224, 224, 3)\n"
     ]
    },
    {
     "name": "stderr",
     "output_type": "stream",
     "text": [
      "100%|██████████| 75/75 [09:27<00:00,  7.57s/it]\n"
     ]
    },
    {
     "name": "stdout",
     "output_type": "stream",
     "text": [
      "546_20.png dimensions: (224, 224, 3)\n",
      "546_20_generated.png dimensions: (224, 224, 3)\n",
      "546_40.png dimensions: (224, 224, 3)\n",
      "546_40_generated.png dimensions: (224, 224, 3)\n"
     ]
    },
    {
     "name": "stderr",
     "output_type": "stream",
     "text": [
      "100%|██████████| 75/75 [09:45<00:00,  7.81s/it]\n"
     ]
    },
    {
     "name": "stdout",
     "output_type": "stream",
     "text": [
      "317_20.png dimensions: (224, 224, 3)\n",
      "317_20_generated.png dimensions: (224, 224, 3)\n",
      "317_40.png dimensions: (224, 224, 3)\n",
      "317_40_generated.png dimensions: (224, 224, 3)\n"
     ]
    },
    {
     "name": "stderr",
     "output_type": "stream",
     "text": [
      "100%|██████████| 75/75 [09:55<00:00,  7.94s/it]\n"
     ]
    },
    {
     "name": "stdout",
     "output_type": "stream",
     "text": [
      "446_20.png dimensions: (224, 224, 3)\n",
      "446_20_generated.png dimensions: (224, 224, 3)\n",
      "446_40.png dimensions: (224, 224, 3)\n",
      "446_40_generated.png dimensions: (224, 224, 3)\n"
     ]
    },
    {
     "name": "stderr",
     "output_type": "stream",
     "text": [
      "100%|██████████| 75/75 [10:23<00:00,  8.31s/it]\n"
     ]
    },
    {
     "name": "stdout",
     "output_type": "stream",
     "text": [
      "1095_20.png dimensions: (224, 224, 3)\n",
      "1095_20_generated.png dimensions: (224, 224, 3)\n",
      "1095_40.png dimensions: (224, 224, 3)\n",
      "1095_40_generated.png dimensions: (224, 224, 3)\n"
     ]
    },
    {
     "name": "stderr",
     "output_type": "stream",
     "text": [
      "100%|██████████| 75/75 [09:28<00:00,  7.58s/it]\n"
     ]
    },
    {
     "name": "stdout",
     "output_type": "stream",
     "text": [
      "1573_20.png dimensions: (224, 224, 3)\n",
      "1573_20_generated.png dimensions: (224, 224, 3)\n",
      "1573_40.png dimensions: (224, 224, 3)\n",
      "1573_40_generated.png dimensions: (224, 224, 3)\n"
     ]
    },
    {
     "name": "stderr",
     "output_type": "stream",
     "text": [
      "100%|██████████| 75/75 [09:26<00:00,  7.56s/it]\n"
     ]
    },
    {
     "name": "stdout",
     "output_type": "stream",
     "text": [
      "1222_20.png dimensions: (224, 224, 3)\n",
      "1222_20_generated.png dimensions: (224, 224, 3)\n",
      "1222_40.png dimensions: (224, 224, 3)\n",
      "1222_40_generated.png dimensions: (224, 224, 3)\n"
     ]
    },
    {
     "name": "stderr",
     "output_type": "stream",
     "text": [
      "100%|██████████| 75/75 [09:56<00:00,  7.96s/it]\n"
     ]
    },
    {
     "name": "stdout",
     "output_type": "stream",
     "text": [
      "999_20.png dimensions: (224, 224, 3)\n",
      "999_20_generated.png dimensions: (224, 224, 3)\n",
      "999_40.png dimensions: (224, 224, 3)\n",
      "999_40_generated.png dimensions: (224, 224, 3)\n"
     ]
    },
    {
     "name": "stderr",
     "output_type": "stream",
     "text": [
      "100%|██████████| 75/75 [09:42<00:00,  7.77s/it]\n"
     ]
    },
    {
     "name": "stdout",
     "output_type": "stream",
     "text": [
      "1195_20.png dimensions: (224, 224, 3)\n",
      "1195_20_generated.png dimensions: (224, 224, 3)\n",
      "1195_40.png dimensions: (224, 224, 3)\n",
      "1195_40_generated.png dimensions: (224, 224, 3)\n"
     ]
    },
    {
     "name": "stderr",
     "output_type": "stream",
     "text": [
      "100%|██████████| 75/75 [09:28<00:00,  7.57s/it]\n"
     ]
    },
    {
     "name": "stdout",
     "output_type": "stream",
     "text": [
      "1473_20.png dimensions: (224, 224, 3)\n",
      "1473_20_generated.png dimensions: (224, 224, 3)\n",
      "1473_40.png dimensions: (224, 224, 3)\n",
      "1473_40_generated.png dimensions: (224, 224, 3)\n"
     ]
    },
    {
     "name": "stderr",
     "output_type": "stream",
     "text": [
      "100%|██████████| 75/75 [09:43<00:00,  7.77s/it]\n"
     ]
    },
    {
     "name": "stdout",
     "output_type": "stream",
     "text": [
      "1322_20.png dimensions: (224, 224, 3)\n",
      "1322_20_generated.png dimensions: (224, 224, 3)\n",
      "1322_40.png dimensions: (224, 224, 3)\n",
      "1322_40_generated.png dimensions: (224, 224, 3)\n"
     ]
    },
    {
     "name": "stderr",
     "output_type": "stream",
     "text": [
      "100%|██████████| 75/75 [09:38<00:00,  7.72s/it]\n"
     ]
    },
    {
     "name": "stdout",
     "output_type": "stream",
     "text": [
      "899_20.png dimensions: (224, 224, 3)\n",
      "899_20_generated.png dimensions: (224, 224, 3)\n",
      "899_40.png dimensions: (224, 224, 3)\n",
      "899_40_generated.png dimensions: (224, 224, 3)\n"
     ]
    },
    {
     "name": "stderr",
     "output_type": "stream",
     "text": [
      "100%|██████████| 75/75 [09:38<00:00,  7.72s/it]\n"
     ]
    },
    {
     "name": "stdout",
     "output_type": "stream",
     "text": [
      "1510_20.png dimensions: (224, 224, 3)\n",
      "1510_20_generated.png dimensions: (224, 224, 3)\n",
      "1510_40.png dimensions: (224, 224, 3)\n",
      "1510_40_generated.png dimensions: (224, 224, 3)\n"
     ]
    },
    {
     "name": "stderr",
     "output_type": "stream",
     "text": [
      "100%|██████████| 75/75 [09:55<00:00,  7.93s/it]\n"
     ]
    },
    {
     "name": "stdout",
     "output_type": "stream",
     "text": [
      "1241_20.png dimensions: (224, 224, 3)\n",
      "1241_20_generated.png dimensions: (224, 224, 3)\n",
      "1241_40.png dimensions: (224, 224, 3)\n",
      "1241_40_generated.png dimensions: (224, 224, 3)\n"
     ]
    },
    {
     "name": "stderr",
     "output_type": "stream",
     "text": [
      "100%|██████████| 75/75 [09:08<00:00,  7.31s/it]\n"
     ]
    },
    {
     "name": "stdout",
     "output_type": "stream",
     "text": [
      "1410_20.png dimensions: (224, 224, 3)\n",
      "1410_20_generated.png dimensions: (224, 224, 3)\n",
      "1410_40.png dimensions: (224, 224, 3)\n",
      "1410_40_generated.png dimensions: (224, 224, 3)\n"
     ]
    },
    {
     "name": "stderr",
     "output_type": "stream",
     "text": [
      "100%|██████████| 75/75 [09:37<00:00,  7.70s/it]\n"
     ]
    },
    {
     "name": "stdout",
     "output_type": "stream",
     "text": [
      "1341_20.png dimensions: (224, 224, 3)\n",
      "1341_20_generated.png dimensions: (224, 224, 3)\n",
      "1341_40.png dimensions: (224, 224, 3)\n",
      "1341_40_generated.png dimensions: (224, 224, 3)\n"
     ]
    },
    {
     "name": "stderr",
     "output_type": "stream",
     "text": [
      "100%|██████████| 75/75 [09:14<00:00,  7.39s/it]\n"
     ]
    },
    {
     "name": "stdout",
     "output_type": "stream",
     "text": [
      "209_20.png dimensions: (224, 224, 3)\n",
      "209_20_generated.png dimensions: (224, 224, 3)\n",
      "209_40.png dimensions: (224, 224, 3)\n",
      "209_40_generated.png dimensions: (224, 224, 3)\n"
     ]
    },
    {
     "name": "stderr",
     "output_type": "stream",
     "text": [
      "100%|██████████| 75/75 [09:29<00:00,  7.59s/it]\n"
     ]
    },
    {
     "name": "stdout",
     "output_type": "stream",
     "text": [
      "558_20.png dimensions: (224, 224, 3)\n",
      "558_20_generated.png dimensions: (224, 224, 3)\n",
      "558_40.png dimensions: (224, 224, 3)\n",
      "558_40_generated.png dimensions: (224, 224, 3)\n"
     ]
    },
    {
     "name": "stderr",
     "output_type": "stream",
     "text": [
      "100%|██████████| 75/75 [09:29<00:00,  7.59s/it]\n"
     ]
    },
    {
     "name": "stdout",
     "output_type": "stream",
     "text": [
      "309_20.png dimensions: (224, 224, 3)\n",
      "309_20_generated.png dimensions: (224, 224, 3)\n",
      "309_40.png dimensions: (224, 224, 3)\n",
      "309_40_generated.png dimensions: (224, 224, 3)\n"
     ]
    },
    {
     "name": "stderr",
     "output_type": "stream",
     "text": [
      "100%|██████████| 75/75 [09:19<00:00,  7.46s/it]\n"
     ]
    },
    {
     "name": "stdout",
     "output_type": "stream",
     "text": [
      "458_20.png dimensions: (224, 224, 3)\n",
      "458_20_generated.png dimensions: (224, 224, 3)\n",
      "458_40.png dimensions: (224, 224, 3)\n",
      "458_40_generated.png dimensions: (224, 224, 3)\n"
     ]
    },
    {
     "name": "stderr",
     "output_type": "stream",
     "text": [
      "100%|██████████| 75/75 [09:11<00:00,  7.36s/it]\n"
     ]
    },
    {
     "name": "stdout",
     "output_type": "stream",
     "text": [
      "987_20.png dimensions: (224, 224, 3)\n",
      "987_20_generated.png dimensions: (224, 224, 3)\n",
      "987_40.png dimensions: (224, 224, 3)\n",
      "987_40_generated.png dimensions: (224, 224, 3)\n"
     ]
    },
    {
     "name": "stderr",
     "output_type": "stream",
     "text": [
      "100%|██████████| 75/75 [09:21<00:00,  7.48s/it]\n"
     ]
    },
    {
     "name": "stdout",
     "output_type": "stream",
     "text": [
      "887_20.png dimensions: (224, 224, 3)\n",
      "887_20_generated.png dimensions: (224, 224, 3)\n",
      "887_40.png dimensions: (224, 224, 3)\n",
      "887_40_generated.png dimensions: (224, 224, 3)\n"
     ]
    },
    {
     "name": "stderr",
     "output_type": "stream",
     "text": [
      "100%|██████████| 75/75 [09:19<00:00,  7.47s/it]\n"
     ]
    },
    {
     "name": "stdout",
     "output_type": "stream",
     "text": [
      "82_20.png dimensions: (224, 224, 3)\n",
      "82_20_generated.png dimensions: (224, 224, 3)\n",
      "82_40.png dimensions: (224, 224, 3)\n",
      "82_40_generated.png dimensions: (224, 224, 3)\n"
     ]
    },
    {
     "name": "stderr",
     "output_type": "stream",
     "text": [
      "100%|██████████| 75/75 [09:16<00:00,  7.43s/it]\n"
     ]
    },
    {
     "name": "stdout",
     "output_type": "stream",
     "text": [
      "792_20.png dimensions: (224, 224, 3)\n",
      "792_20_generated.png dimensions: (224, 224, 3)\n",
      "792_40.png dimensions: (224, 224, 3)\n",
      "792_40_generated.png dimensions: (224, 224, 3)\n"
     ]
    },
    {
     "name": "stderr",
     "output_type": "stream",
     "text": [
      "100%|██████████| 75/75 [09:35<00:00,  7.68s/it]\n"
     ]
    },
    {
     "name": "stdout",
     "output_type": "stream",
     "text": [
      "274_20.png dimensions: (224, 224, 3)\n",
      "274_20_generated.png dimensions: (224, 224, 3)\n",
      "274_40.png dimensions: (224, 224, 3)\n",
      "274_40_generated.png dimensions: (224, 224, 3)\n"
     ]
    },
    {
     "name": "stderr",
     "output_type": "stream",
     "text": [
      "100%|██████████| 75/75 [09:55<00:00,  7.94s/it]\n"
     ]
    },
    {
     "name": "stdout",
     "output_type": "stream",
     "text": [
      "525_20.png dimensions: (224, 224, 3)\n",
      "525_20_generated.png dimensions: (224, 224, 3)\n",
      "525_40.png dimensions: (224, 224, 3)\n",
      "525_40_generated.png dimensions: (224, 224, 3)\n"
     ]
    },
    {
     "name": "stderr",
     "output_type": "stream",
     "text": [
      "100%|██████████| 75/75 [10:18<00:00,  8.24s/it]\n"
     ]
    },
    {
     "name": "stdout",
     "output_type": "stream",
     "text": [
      "692_20.png dimensions: (224, 224, 3)\n",
      "692_20_generated.png dimensions: (224, 224, 3)\n",
      "692_40.png dimensions: (224, 224, 3)\n",
      "692_40_generated.png dimensions: (224, 224, 3)\n"
     ]
    },
    {
     "name": "stderr",
     "output_type": "stream",
     "text": [
      "100%|██████████| 75/75 [09:57<00:00,  7.96s/it]\n"
     ]
    },
    {
     "name": "stdout",
     "output_type": "stream",
     "text": [
      "374_20.png dimensions: (224, 224, 3)\n",
      "374_20_generated.png dimensions: (224, 224, 3)\n",
      "374_40.png dimensions: (224, 224, 3)\n",
      "374_40_generated.png dimensions: (224, 224, 3)\n"
     ]
    },
    {
     "name": "stderr",
     "output_type": "stream",
     "text": [
      "100%|██████████| 75/75 [12:00<00:00,  9.61s/it]\n"
     ]
    },
    {
     "name": "stdout",
     "output_type": "stream",
     "text": [
      "425_20.png dimensions: (224, 224, 3)\n",
      "425_20_generated.png dimensions: (224, 224, 3)\n",
      "425_40.png dimensions: (224, 224, 3)\n",
      "425_40_generated.png dimensions: (224, 224, 3)\n"
     ]
    },
    {
     "name": "stderr",
     "output_type": "stream",
     "text": [
      "100%|██████████| 75/75 [13:00<00:00, 10.41s/it]\n"
     ]
    },
    {
     "name": "stdout",
     "output_type": "stream",
     "text": [
      "454_20.png dimensions: (224, 224, 3)\n",
      "454_20_generated.png dimensions: (224, 224, 3)\n",
      "454_40.png dimensions: (224, 224, 3)\n",
      "454_40_generated.png dimensions: (224, 224, 3)\n"
     ]
    },
    {
     "name": "stderr",
     "output_type": "stream",
     "text": [
      "100%|██████████| 75/75 [16:28<00:00, 13.18s/it]\n"
     ]
    },
    {
     "name": "stdout",
     "output_type": "stream",
     "text": [
      "305_20.png dimensions: (224, 224, 3)\n",
      "305_20_generated.png dimensions: (224, 224, 3)\n",
      "305_40.png dimensions: (224, 224, 3)\n",
      "305_40_generated.png dimensions: (224, 224, 3)\n"
     ]
    },
    {
     "name": "stderr",
     "output_type": "stream",
     "text": [
      "100%|██████████| 75/75 [10:22<00:00,  8.29s/it]\n"
     ]
    },
    {
     "name": "stdout",
     "output_type": "stream",
     "text": [
      "554_20.png dimensions: (224, 224, 3)\n",
      "554_20_generated.png dimensions: (224, 224, 3)\n",
      "554_40.png dimensions: (224, 224, 3)\n",
      "554_40_generated.png dimensions: (224, 224, 3)\n"
     ]
    },
    {
     "name": "stderr",
     "output_type": "stream",
     "text": [
      "100%|██████████| 75/75 [08:16<00:00,  6.62s/it]\n"
     ]
    },
    {
     "name": "stdout",
     "output_type": "stream",
     "text": [
      "205_20.png dimensions: (224, 224, 3)\n",
      "205_20_generated.png dimensions: (224, 224, 3)\n",
      "205_40.png dimensions: (224, 224, 3)\n",
      "205_40_generated.png dimensions: (224, 224, 3)\n"
     ]
    },
    {
     "name": "stderr",
     "output_type": "stream",
     "text": [
      "100%|██████████| 75/75 [20:16<00:00, 16.22s/it]   \n"
     ]
    },
    {
     "name": "stdout",
     "output_type": "stream",
     "text": [
      "429_20.png dimensions: (224, 224, 3)\n",
      "429_20_generated.png dimensions: (224, 224, 3)\n",
      "429_40.png dimensions: (224, 224, 3)\n",
      "429_40_generated.png dimensions: (224, 224, 3)\n"
     ]
    },
    {
     "name": "stderr",
     "output_type": "stream",
     "text": [
      "100%|██████████| 75/75 [10:48<00:00,  8.64s/it]\n"
     ]
    },
    {
     "name": "stdout",
     "output_type": "stream",
     "text": [
      "378_20.png dimensions: (224, 224, 3)\n",
      "378_20_generated.png dimensions: (224, 224, 3)\n",
      "378_40.png dimensions: (224, 224, 3)\n",
      "378_40_generated.png dimensions: (224, 224, 3)\n"
     ]
    },
    {
     "name": "stderr",
     "output_type": "stream",
     "text": [
      "100%|██████████| 75/75 [08:52<00:00,  7.11s/it]\n"
     ]
    },
    {
     "name": "stdout",
     "output_type": "stream",
     "text": [
      "529_20.png dimensions: (224, 224, 3)\n",
      "529_20_generated.png dimensions: (224, 224, 3)\n",
      "529_40.png dimensions: (224, 224, 3)\n",
      "529_40_generated.png dimensions: (224, 224, 3)\n"
     ]
    },
    {
     "name": "stderr",
     "output_type": "stream",
     "text": [
      "100%|██████████| 75/75 [09:33<00:00,  7.64s/it]\n"
     ]
    },
    {
     "name": "stdout",
     "output_type": "stream",
     "text": [
      "278_20.png dimensions: (224, 224, 3)\n",
      "278_20_generated.png dimensions: (224, 224, 3)\n",
      "278_40.png dimensions: (224, 224, 3)\n",
      "278_40_generated.png dimensions: (224, 224, 3)\n"
     ]
    },
    {
     "name": "stderr",
     "output_type": "stream",
     "text": [
      "100%|██████████| 75/75 [08:39<00:00,  6.93s/it]\n"
     ]
    },
    {
     "name": "stdout",
     "output_type": "stream",
     "text": [
      "1330_20.png dimensions: (224, 224, 3)\n",
      "1330_20_generated.png dimensions: (224, 224, 3)\n",
      "1330_40.png dimensions: (224, 224, 3)\n",
      "1330_40_generated.png dimensions: (224, 224, 3)\n"
     ]
    },
    {
     "name": "stderr",
     "output_type": "stream",
     "text": [
      "100%|██████████| 75/75 [10:50<00:00,  8.67s/it]\n"
     ]
    },
    {
     "name": "stdout",
     "output_type": "stream",
     "text": [
      "1461_20.png dimensions: (224, 224, 3)\n",
      "1461_20_generated.png dimensions: (224, 224, 3)\n",
      "1461_40.png dimensions: (224, 224, 3)\n",
      "1461_40_generated.png dimensions: (224, 224, 3)\n"
     ]
    },
    {
     "name": "stderr",
     "output_type": "stream",
     "text": [
      "100%|██████████| 75/75 [3:29:40<00:00, 167.74s/it]  \n"
     ]
    },
    {
     "name": "stdout",
     "output_type": "stream",
     "text": [
      "1187_20.png dimensions: (224, 224, 3)\n",
      "1187_20_generated.png dimensions: (224, 224, 3)\n",
      "1187_40.png dimensions: (224, 224, 3)\n",
      "1187_40_generated.png dimensions: (224, 224, 3)\n"
     ]
    },
    {
     "name": "stderr",
     "output_type": "stream",
     "text": [
      "100%|██████████| 75/75 [5:37:03<00:00, 269.65s/it]    \n"
     ]
    },
    {
     "name": "stdout",
     "output_type": "stream",
     "text": [
      "1230_20.png dimensions: (224, 224, 3)\n",
      "1230_20_generated.png dimensions: (224, 224, 3)\n",
      "1230_40.png dimensions: (224, 224, 3)\n",
      "1230_40_generated.png dimensions: (224, 224, 3)\n"
     ]
    },
    {
     "name": "stderr",
     "output_type": "stream",
     "text": [
      "100%|██████████| 75/75 [11:30<00:00,  9.21s/it]\n"
     ]
    },
    {
     "name": "stdout",
     "output_type": "stream",
     "text": [
      "1561_20.png dimensions: (224, 224, 3)\n",
      "1561_20_generated.png dimensions: (224, 224, 3)\n",
      "1561_40.png dimensions: (224, 224, 3)\n",
      "1561_40_generated.png dimensions: (224, 224, 3)\n"
     ]
    },
    {
     "name": "stderr",
     "output_type": "stream",
     "text": [
      "100%|██████████| 75/75 [11:51<00:00,  9.48s/it]\n"
     ]
    },
    {
     "name": "stdout",
     "output_type": "stream",
     "text": [
      "1087_20.png dimensions: (224, 224, 3)\n",
      "1087_20_generated.png dimensions: (224, 224, 3)\n",
      "1087_40.png dimensions: (224, 224, 3)\n",
      "1087_40_generated.png dimensions: (224, 224, 3)\n"
     ]
    },
    {
     "name": "stderr",
     "output_type": "stream",
     "text": [
      "100%|██████████| 75/75 [12:22<00:00,  9.91s/it]\n"
     ]
    },
    {
     "name": "stdout",
     "output_type": "stream",
     "text": [
      "1353_20.png dimensions: (224, 224, 3)\n",
      "1353_20_generated.png dimensions: (224, 224, 3)\n",
      "1353_40.png dimensions: (224, 224, 3)\n",
      "1353_40_generated.png dimensions: (224, 224, 3)\n"
     ]
    },
    {
     "name": "stderr",
     "output_type": "stream",
     "text": [
      "100%|██████████| 75/75 [11:56<00:00,  9.55s/it]\n"
     ]
    },
    {
     "name": "stdout",
     "output_type": "stream",
     "text": [
      "1402_20.png dimensions: (224, 224, 3)\n",
      "1402_20_generated.png dimensions: (224, 224, 3)\n",
      "1402_40.png dimensions: (224, 224, 3)\n",
      "1402_40_generated.png dimensions: (224, 224, 3)\n"
     ]
    },
    {
     "name": "stderr",
     "output_type": "stream",
     "text": [
      "100%|██████████| 75/75 [13:28<00:00, 10.79s/it]\n"
     ]
    },
    {
     "name": "stdout",
     "output_type": "stream",
     "text": [
      "1253_20.png dimensions: (224, 224, 3)\n",
      "1253_20_generated.png dimensions: (224, 224, 3)\n",
      "1253_40.png dimensions: (224, 224, 3)\n",
      "1253_40_generated.png dimensions: (224, 224, 3)\n"
     ]
    },
    {
     "name": "stderr",
     "output_type": "stream",
     "text": [
      "100%|██████████| 75/75 [08:26<00:00,  6.75s/it]\n"
     ]
    },
    {
     "name": "stdout",
     "output_type": "stream",
     "text": [
      "1502_20.png dimensions: (224, 224, 3)\n",
      "1502_20_generated.png dimensions: (224, 224, 3)\n",
      "1502_40.png dimensions: (224, 224, 3)\n",
      "1502_40_generated.png dimensions: (224, 224, 3)\n"
     ]
    },
    {
     "name": "stderr",
     "output_type": "stream",
     "text": [
      "100%|██████████| 75/75 [09:12<00:00,  7.36s/it]\n"
     ]
    },
    {
     "name": "stdout",
     "output_type": "stream",
     "text": [
      "1199_20.png dimensions: (224, 224, 3)\n",
      "1199_20_generated.png dimensions: (224, 224, 3)\n",
      "1199_40.png dimensions: (224, 224, 3)\n",
      "1199_40_generated.png dimensions: (224, 224, 3)\n"
     ]
    },
    {
     "name": "stderr",
     "output_type": "stream",
     "text": [
      " 15%|█▍        | 11/75 [01:46<10:20,  9.69s/it]\n"
     ]
    },
    {
     "ename": "KeyboardInterrupt",
     "evalue": "",
     "output_type": "error",
     "traceback": [
      "\u001b[0;31m---------------------------------------------------------------------------\u001b[0m",
      "\u001b[0;31mKeyboardInterrupt\u001b[0m                         Traceback (most recent call last)",
      "Cell \u001b[0;32mIn[32], line 12\u001b[0m\n\u001b[1;32m      9\u001b[0m image_40_path \u001b[38;5;241m=\u001b[39m os\u001b[38;5;241m.\u001b[39mpath\u001b[38;5;241m.\u001b[39mjoin(folder_path, \u001b[38;5;124mf\u001b[39m\u001b[38;5;124m\"\u001b[39m\u001b[38;5;132;01m{\u001b[39;00mbase_name\u001b[38;5;132;01m}\u001b[39;00m\u001b[38;5;124m_40.png\u001b[39m\u001b[38;5;124m\"\u001b[39m)\n\u001b[1;32m     11\u001b[0m \u001b[38;5;66;03m# Generate images\u001b[39;00m\n\u001b[0;32m---> 12\u001b[0m upscaled_image \u001b[38;5;241m=\u001b[39m \u001b[43mgenerate_upscaled_images\u001b[49m\u001b[43m(\u001b[49m\u001b[43mimage_10_path\u001b[49m\u001b[43m)\u001b[49m\n\u001b[1;32m     13\u001b[0m upscaled_image_path \u001b[38;5;241m=\u001b[39m os\u001b[38;5;241m.\u001b[39mpath\u001b[38;5;241m.\u001b[39mjoin(folder_path, \u001b[38;5;124mf\u001b[39m\u001b[38;5;124m\"\u001b[39m\u001b[38;5;132;01m{\u001b[39;00mbase_name\u001b[38;5;132;01m}\u001b[39;00m\u001b[38;5;124m_10_upsampled.png\u001b[39m\u001b[38;5;124m\"\u001b[39m)\n\u001b[1;32m     14\u001b[0m upscaled_image\u001b[38;5;241m.\u001b[39msave(upscaled_image_path)\n",
      "Cell \u001b[0;32mIn[22], line 3\u001b[0m, in \u001b[0;36mgenerate_upscaled_images\u001b[0;34m(image_path, prompt)\u001b[0m\n\u001b[1;32m      1\u001b[0m \u001b[38;5;28;01mdef\u001b[39;00m \u001b[38;5;21mgenerate_upscaled_images\u001b[39m(image_path, prompt\u001b[38;5;241m=\u001b[39m\u001b[38;5;124m\"\u001b[39m\u001b[38;5;124mhigh resolution image of a histopathology slide\u001b[39m\u001b[38;5;124m\"\u001b[39m):\n\u001b[1;32m      2\u001b[0m     low_res_img \u001b[38;5;241m=\u001b[39m Image\u001b[38;5;241m.\u001b[39mopen(image_path)\u001b[38;5;241m.\u001b[39mconvert(\u001b[38;5;124m\"\u001b[39m\u001b[38;5;124mRGB\u001b[39m\u001b[38;5;124m\"\u001b[39m)\n\u001b[0;32m----> 3\u001b[0m     upscaled_image \u001b[38;5;241m=\u001b[39m \u001b[43mpipeline\u001b[49m\u001b[43m(\u001b[49m\u001b[43mprompt\u001b[49m\u001b[38;5;241;43m=\u001b[39;49m\u001b[43mprompt\u001b[49m\u001b[43m,\u001b[49m\u001b[43m \u001b[49m\u001b[43mimage\u001b[49m\u001b[38;5;241;43m=\u001b[39;49m\u001b[43mlow_res_img\u001b[49m\u001b[43m)\u001b[49m\u001b[38;5;241m.\u001b[39mimages[\u001b[38;5;241m0\u001b[39m]\n\u001b[1;32m      4\u001b[0m     \u001b[38;5;28;01mreturn\u001b[39;00m upscaled_image\n",
      "File \u001b[0;32m~/miniconda3/envs/upscaler/lib/python3.9/site-packages/torch/utils/_contextlib.py:115\u001b[0m, in \u001b[0;36mcontext_decorator.<locals>.decorate_context\u001b[0;34m(*args, **kwargs)\u001b[0m\n\u001b[1;32m    112\u001b[0m \u001b[38;5;129m@functools\u001b[39m\u001b[38;5;241m.\u001b[39mwraps(func)\n\u001b[1;32m    113\u001b[0m \u001b[38;5;28;01mdef\u001b[39;00m \u001b[38;5;21mdecorate_context\u001b[39m(\u001b[38;5;241m*\u001b[39margs, \u001b[38;5;241m*\u001b[39m\u001b[38;5;241m*\u001b[39mkwargs):\n\u001b[1;32m    114\u001b[0m     \u001b[38;5;28;01mwith\u001b[39;00m ctx_factory():\n\u001b[0;32m--> 115\u001b[0m         \u001b[38;5;28;01mreturn\u001b[39;00m \u001b[43mfunc\u001b[49m\u001b[43m(\u001b[49m\u001b[38;5;241;43m*\u001b[39;49m\u001b[43margs\u001b[49m\u001b[43m,\u001b[49m\u001b[43m \u001b[49m\u001b[38;5;241;43m*\u001b[39;49m\u001b[38;5;241;43m*\u001b[39;49m\u001b[43mkwargs\u001b[49m\u001b[43m)\u001b[49m\n",
      "File \u001b[0;32m~/miniconda3/envs/upscaler/lib/python3.9/site-packages/diffusers/pipelines/stable_diffusion/pipeline_stable_diffusion_upscale.py:762\u001b[0m, in \u001b[0;36mStableDiffusionUpscalePipeline.__call__\u001b[0;34m(self, prompt, image, num_inference_steps, guidance_scale, noise_level, negative_prompt, num_images_per_prompt, eta, generator, latents, prompt_embeds, negative_prompt_embeds, output_type, return_dict, callback, callback_steps, cross_attention_kwargs, clip_skip)\u001b[0m\n\u001b[1;32m    759\u001b[0m     noise_pred \u001b[38;5;241m=\u001b[39m noise_pred_uncond \u001b[38;5;241m+\u001b[39m guidance_scale \u001b[38;5;241m*\u001b[39m (noise_pred_text \u001b[38;5;241m-\u001b[39m noise_pred_uncond)\n\u001b[1;32m    761\u001b[0m \u001b[38;5;66;03m# compute the previous noisy sample x_t -> x_t-1\u001b[39;00m\n\u001b[0;32m--> 762\u001b[0m latents \u001b[38;5;241m=\u001b[39m \u001b[38;5;28;43mself\u001b[39;49m\u001b[38;5;241;43m.\u001b[39;49m\u001b[43mscheduler\u001b[49m\u001b[38;5;241;43m.\u001b[39;49m\u001b[43mstep\u001b[49m\u001b[43m(\u001b[49m\u001b[43mnoise_pred\u001b[49m\u001b[43m,\u001b[49m\u001b[43m \u001b[49m\u001b[43mt\u001b[49m\u001b[43m,\u001b[49m\u001b[43m \u001b[49m\u001b[43mlatents\u001b[49m\u001b[43m,\u001b[49m\u001b[43m \u001b[49m\u001b[38;5;241;43m*\u001b[39;49m\u001b[38;5;241;43m*\u001b[39;49m\u001b[43mextra_step_kwargs\u001b[49m\u001b[43m,\u001b[49m\u001b[43m \u001b[49m\u001b[43mreturn_dict\u001b[49m\u001b[38;5;241;43m=\u001b[39;49m\u001b[38;5;28;43;01mFalse\u001b[39;49;00m\u001b[43m)\u001b[49m[\u001b[38;5;241m0\u001b[39m]\n\u001b[1;32m    764\u001b[0m \u001b[38;5;66;03m# call the callback, if provided\u001b[39;00m\n\u001b[1;32m    765\u001b[0m \u001b[38;5;28;01mif\u001b[39;00m i \u001b[38;5;241m==\u001b[39m \u001b[38;5;28mlen\u001b[39m(timesteps) \u001b[38;5;241m-\u001b[39m \u001b[38;5;241m1\u001b[39m \u001b[38;5;129;01mor\u001b[39;00m ((i \u001b[38;5;241m+\u001b[39m \u001b[38;5;241m1\u001b[39m) \u001b[38;5;241m>\u001b[39m num_warmup_steps \u001b[38;5;129;01mand\u001b[39;00m (i \u001b[38;5;241m+\u001b[39m \u001b[38;5;241m1\u001b[39m) \u001b[38;5;241m%\u001b[39m \u001b[38;5;28mself\u001b[39m\u001b[38;5;241m.\u001b[39mscheduler\u001b[38;5;241m.\u001b[39morder \u001b[38;5;241m==\u001b[39m \u001b[38;5;241m0\u001b[39m):\n",
      "File \u001b[0;32m~/miniconda3/envs/upscaler/lib/python3.9/site-packages/diffusers/schedulers/scheduling_ddim.py:405\u001b[0m, in \u001b[0;36mDDIMScheduler.step\u001b[0;34m(self, model_output, timestep, sample, eta, use_clipped_model_output, generator, variance_noise, return_dict)\u001b[0m\n\u001b[1;32m    402\u001b[0m prev_timestep \u001b[38;5;241m=\u001b[39m timestep \u001b[38;5;241m-\u001b[39m \u001b[38;5;28mself\u001b[39m\u001b[38;5;241m.\u001b[39mconfig\u001b[38;5;241m.\u001b[39mnum_train_timesteps \u001b[38;5;241m/\u001b[39m\u001b[38;5;241m/\u001b[39m \u001b[38;5;28mself\u001b[39m\u001b[38;5;241m.\u001b[39mnum_inference_steps\n\u001b[1;32m    404\u001b[0m \u001b[38;5;66;03m# 2. compute alphas, betas\u001b[39;00m\n\u001b[0;32m--> 405\u001b[0m alpha_prod_t \u001b[38;5;241m=\u001b[39m \u001b[38;5;28;43mself\u001b[39;49m\u001b[38;5;241;43m.\u001b[39;49m\u001b[43malphas_cumprod\u001b[49m\u001b[43m[\u001b[49m\u001b[43mtimestep\u001b[49m\u001b[43m]\u001b[49m\n\u001b[1;32m    406\u001b[0m alpha_prod_t_prev \u001b[38;5;241m=\u001b[39m \u001b[38;5;28mself\u001b[39m\u001b[38;5;241m.\u001b[39malphas_cumprod[prev_timestep] \u001b[38;5;28;01mif\u001b[39;00m prev_timestep \u001b[38;5;241m>\u001b[39m\u001b[38;5;241m=\u001b[39m \u001b[38;5;241m0\u001b[39m \u001b[38;5;28;01melse\u001b[39;00m \u001b[38;5;28mself\u001b[39m\u001b[38;5;241m.\u001b[39mfinal_alpha_cumprod\n\u001b[1;32m    408\u001b[0m beta_prod_t \u001b[38;5;241m=\u001b[39m \u001b[38;5;241m1\u001b[39m \u001b[38;5;241m-\u001b[39m alpha_prod_t\n",
      "\u001b[0;31mKeyboardInterrupt\u001b[0m: "
     ]
    }
   ],
   "source": [
    "results = []\n",
    "sample_images_20 = []\n",
    "sample_images_40 = []\n",
    "\n",
    "for idx, file in enumerate(file_list):\n",
    "    base_name = file[:-7]\n",
    "    image_10_path = os.path.join(folder_path, file)\n",
    "    image_20_path = os.path.join(folder_path, f\"{base_name}_20.png\")\n",
    "    image_40_path = os.path.join(folder_path, f\"{base_name}_40.png\")\n",
    "\n",
    "    # Generate images\n",
    "    upscaled_image = generate_upscaled_images(image_10_path)\n",
    "    upscaled_image_path = os.path.join(folder_path, f\"{base_name}_10_upsampled.png\")\n",
    "    upscaled_image.save(upscaled_image_path)\n",
    "    \n",
    "    zoomed_image_20x = zoom_in(upscaled_image_path, os.path.join(folder_path, f\"{base_name}_20_generated.png\"))\n",
    "    zoomed_image_40x = zoom_in(os.path.join(folder_path, f\"{base_name}_20_generated.png\"), os.path.join(folder_path, f\"{base_name}_40_generated.png\"))\n",
    "    \n",
    "    # Load original 20x and 40x images\n",
    "    image_20 = cv2.imread(image_20_path)\n",
    "    image_40 = cv2.imread(image_40_path)\n",
    "    \n",
    "    # Load generated 20x and 40x images\n",
    "    image_20_generated = cv2.imread(os.path.join(folder_path, f\"{base_name}_20_generated.png\"))\n",
    "    image_40_generated = cv2.imread(os.path.join(folder_path, f\"{base_name}_40_generated.png\"))\n",
    "    \n",
    "    # Downsample generated images to match original image dimensions\n",
    "    image_20_generated = downsample_image(image_20_generated, image_20.shape)\n",
    "    image_40_generated = downsample_image(image_40_generated, image_40.shape)\n",
    "    \n",
    "    # Print dimensions for debugging\n",
    "    print(f\"{base_name}_20.png dimensions: {image_20.shape}\")\n",
    "    print(f\"{base_name}_20_generated.png dimensions: {image_20_generated.shape}\")\n",
    "    print(f\"{base_name}_40.png dimensions: {image_40.shape}\")\n",
    "    print(f\"{base_name}_40_generated.png dimensions: {image_40_generated.shape}\")\n",
    "   "
   ]
  },
  {
   "cell_type": "code",
   "execution_count": 26,
   "metadata": {},
   "outputs": [],
   "source": [
    "def downsample_image(image, target_shape):\n",
    "    return cv2.resize(image, (target_shape[1], target_shape[0]), interpolation=cv2.INTER_AREA)\n"
   ]
  },
  {
   "cell_type": "code",
   "execution_count": 24,
   "metadata": {},
   "outputs": [],
   "source": [
    "def calculate_fid_kid(image1, image2):\n",
    "    model = InceptionV3(include_top=False, pooling='avg', input_shape=(299, 299, 3))\n",
    "    image1 = cv2.resize(image1, (299, 299))\n",
    "    image2 = cv2.resize(image2, (299, 299))\n",
    "    image1 = preprocess_input(image1)\n",
    "    image2 = preprocess_input(image2)\n",
    "    image1 = np.expand_dims(image1, axis=0)\n",
    "    image2 = np.expand_dims(image2, axis=0)\n",
    "    \n",
    "    act1 = model.predict(image1)\n",
    "    act2 = model.predict(image2)\n",
    "    \n",
    "    mu1, sigma1 = act1.mean(axis=0), np.cov(act1, rowvar=False)\n",
    "    mu2, sigma2 = act2.mean(axis=0), np.cov(act2, rowvar=False)\n",
    "    \n",
    "    ssdiff = np.sum((mu1 - mu2) ** 2.0)\n",
    "    covmean = sqrtm(sigma1.dot(sigma2))\n",
    "    if np.iscomplexobj(covmean):\n",
    "        covmean = covmean.real\n",
    "    \n",
    "    fid = ssdiff + np.trace(sigma1 + sigma2 - 2.0 * covmean)\n",
    "    \n",
    "    kid = np.mean(np.square(act1 - act2))\n",
    "    \n",
    "    return fid, kid"
   ]
  },
  {
   "cell_type": "code",
   "execution_count": 28,
   "metadata": {},
   "outputs": [
    {
     "name": "stderr",
     "output_type": "stream",
     "text": [
      "100%|██████████| 75/75 [10:03<00:00,  8.04s/it]\n"
     ]
    },
    {
     "name": "stdout",
     "output_type": "stream",
     "text": [
      "217_20.png dimensions: (224, 224, 3)\n",
      "217_20_generated.png dimensions: (224, 224, 3)\n",
      "217_40.png dimensions: (224, 224, 3)\n",
      "217_40_generated.png dimensions: (224, 224, 3)\n",
      "Downloading data from https://storage.googleapis.com/tensorflow/keras-applications/inception_v3/inception_v3_weights_tf_dim_ordering_tf_kernels_notop.h5\n",
      "\u001b[1m87910968/87910968\u001b[0m \u001b[32m━━━━━━━━━━━━━━━━━━━━\u001b[0m\u001b[37m\u001b[0m \u001b[1m31s\u001b[0m 0us/step\n",
      "\u001b[1m1/1\u001b[0m \u001b[32m━━━━━━━━━━━━━━━━━━━━\u001b[0m\u001b[37m\u001b[0m \u001b[1m1s\u001b[0m 1s/step\n",
      "\u001b[1m1/1\u001b[0m \u001b[32m━━━━━━━━━━━━━━━━━━━━\u001b[0m\u001b[37m\u001b[0m \u001b[1m0s\u001b[0m 85ms/step\n"
     ]
    },
    {
     "ename": "ValueError",
     "evalue": "Non-matrix input to matrix function.",
     "output_type": "error",
     "traceback": [
      "\u001b[0;31m---------------------------------------------------------------------------\u001b[0m",
      "\u001b[0;31mValueError\u001b[0m                                Traceback (most recent call last)",
      "Cell \u001b[0;32mIn[28], line 45\u001b[0m\n\u001b[1;32m     43\u001b[0m psnr_20 \u001b[38;5;241m=\u001b[39m psnr(image_20, image_20_generated)\n\u001b[1;32m     44\u001b[0m mse_20 \u001b[38;5;241m=\u001b[39m mse(image_20, image_20_generated)\n\u001b[0;32m---> 45\u001b[0m fid_20, kid_20 \u001b[38;5;241m=\u001b[39m \u001b[43mcalculate_fid_kid\u001b[49m\u001b[43m(\u001b[49m\u001b[43mimage_20\u001b[49m\u001b[43m,\u001b[49m\u001b[43m \u001b[49m\u001b[43mimage_20_generated\u001b[49m\u001b[43m)\u001b[49m\n\u001b[1;32m     47\u001b[0m ssim_40 \u001b[38;5;241m=\u001b[39m ssim(image_40, image_40_generated, multichannel\u001b[38;5;241m=\u001b[39m\u001b[38;5;28;01mTrue\u001b[39;00m, win_size\u001b[38;5;241m=\u001b[39m\u001b[38;5;241m3\u001b[39m)\n\u001b[1;32m     48\u001b[0m psnr_40 \u001b[38;5;241m=\u001b[39m psnr(image_40, image_40_generated)\n",
      "Cell \u001b[0;32mIn[24], line 17\u001b[0m, in \u001b[0;36mcalculate_fid_kid\u001b[0;34m(image1, image2)\u001b[0m\n\u001b[1;32m     14\u001b[0m mu2, sigma2 \u001b[38;5;241m=\u001b[39m act2\u001b[38;5;241m.\u001b[39mmean(axis\u001b[38;5;241m=\u001b[39m\u001b[38;5;241m0\u001b[39m), np\u001b[38;5;241m.\u001b[39mcov(act2, rowvar\u001b[38;5;241m=\u001b[39m\u001b[38;5;28;01mFalse\u001b[39;00m)\n\u001b[1;32m     16\u001b[0m ssdiff \u001b[38;5;241m=\u001b[39m np\u001b[38;5;241m.\u001b[39msum((mu1 \u001b[38;5;241m-\u001b[39m mu2) \u001b[38;5;241m*\u001b[39m\u001b[38;5;241m*\u001b[39m \u001b[38;5;241m2.0\u001b[39m)\n\u001b[0;32m---> 17\u001b[0m covmean \u001b[38;5;241m=\u001b[39m \u001b[43msqrtm\u001b[49m\u001b[43m(\u001b[49m\u001b[43msigma1\u001b[49m\u001b[38;5;241;43m.\u001b[39;49m\u001b[43mdot\u001b[49m\u001b[43m(\u001b[49m\u001b[43msigma2\u001b[49m\u001b[43m)\u001b[49m\u001b[43m)\u001b[49m\n\u001b[1;32m     18\u001b[0m \u001b[38;5;28;01mif\u001b[39;00m np\u001b[38;5;241m.\u001b[39miscomplexobj(covmean):\n\u001b[1;32m     19\u001b[0m     covmean \u001b[38;5;241m=\u001b[39m covmean\u001b[38;5;241m.\u001b[39mreal\n",
      "File \u001b[0;32m~/miniconda3/envs/upscaler/lib/python3.9/site-packages/scipy/linalg/_matfuncs_sqrtm.py:169\u001b[0m, in \u001b[0;36msqrtm\u001b[0;34m(A, disp, blocksize)\u001b[0m\n\u001b[1;32m    167\u001b[0m A \u001b[38;5;241m=\u001b[39m _asarray_validated(A, check_finite\u001b[38;5;241m=\u001b[39m\u001b[38;5;28;01mTrue\u001b[39;00m, as_inexact\u001b[38;5;241m=\u001b[39m\u001b[38;5;28;01mTrue\u001b[39;00m)\n\u001b[1;32m    168\u001b[0m \u001b[38;5;28;01mif\u001b[39;00m \u001b[38;5;28mlen\u001b[39m(A\u001b[38;5;241m.\u001b[39mshape) \u001b[38;5;241m!=\u001b[39m \u001b[38;5;241m2\u001b[39m:\n\u001b[0;32m--> 169\u001b[0m     \u001b[38;5;28;01mraise\u001b[39;00m \u001b[38;5;167;01mValueError\u001b[39;00m(\u001b[38;5;124m\"\u001b[39m\u001b[38;5;124mNon-matrix input to matrix function.\u001b[39m\u001b[38;5;124m\"\u001b[39m)\n\u001b[1;32m    170\u001b[0m \u001b[38;5;28;01mif\u001b[39;00m blocksize \u001b[38;5;241m<\u001b[39m \u001b[38;5;241m1\u001b[39m:\n\u001b[1;32m    171\u001b[0m     \u001b[38;5;28;01mraise\u001b[39;00m \u001b[38;5;167;01mValueError\u001b[39;00m(\u001b[38;5;124m\"\u001b[39m\u001b[38;5;124mThe blocksize should be at least 1.\u001b[39m\u001b[38;5;124m\"\u001b[39m)\n",
      "\u001b[0;31mValueError\u001b[0m: Non-matrix input to matrix function."
     ]
    }
   ],
   "source": [
    "results = []\n",
    "sample_images_20 = []\n",
    "sample_images_40 = []\n",
    "\n",
    "for idx, file in enumerate(file_list):\n",
    "    base_name = file[:-7]\n",
    "    image_10_path = os.path.join(folder_path, file)\n",
    "    image_20_path = os.path.join(folder_path, f\"{base_name}_20.png\")\n",
    "    image_40_path = os.path.join(folder_path, f\"{base_name}_40.png\")\n",
    "\n",
    "    # Generate images\n",
    "    upscaled_image = generate_upscaled_images(image_10_path)\n",
    "    upscaled_image_path = os.path.join(folder_path, f\"{base_name}_10_upsampled.png\")\n",
    "    upscaled_image.save(upscaled_image_path)\n",
    "    \n",
    "    zoomed_image_20x = zoom_in(upscaled_image_path, os.path.join(folder_path, f\"{base_name}_20_generated.png\"))\n",
    "    zoomed_image_40x = zoom_in(os.path.join(folder_path, f\"{base_name}_20_generated.png\"), os.path.join(folder_path, f\"{base_name}_40_generated.png\"))\n",
    "    \n",
    "    # Load original 20x and 40x images\n",
    "    image_20 = cv2.imread(image_20_path)\n",
    "    image_40 = cv2.imread(image_40_path)\n",
    "    \n",
    "    # Load generated 20x and 40x images\n",
    "    image_20_generated = cv2.imread(os.path.join(folder_path, f\"{base_name}_20_generated.png\"))\n",
    "    image_40_generated = cv2.imread(os.path.join(folder_path, f\"{base_name}_40_generated.png\"))\n",
    "    \n",
    "    # Downsample generated images to match original image dimensions\n",
    "    image_20_generated = downsample_image(image_20_generated, image_20.shape)\n",
    "    image_40_generated = downsample_image(image_40_generated, image_40.shape)\n",
    "    \n",
    "    # Print dimensions for debugging\n",
    "    print(f\"{base_name}_20.png dimensions: {image_20.shape}\")\n",
    "    print(f\"{base_name}_20_generated.png dimensions: {image_20_generated.shape}\")\n",
    "    print(f\"{base_name}_40.png dimensions: {image_40.shape}\")\n",
    "    print(f\"{base_name}_40_generated.png dimensions: {image_40_generated.shape}\")\n",
    "    \n",
    "    if idx < 5:\n",
    "        sample_images_20.append((image_20, image_20_generated))\n",
    "        sample_images_40.append((image_40, image_40_generated))\n",
    "\n",
    "    # Calculate metrics\n",
    "    ssim_20 = ssim(image_20, image_20_generated, multichannel=True, win_size=3)\n",
    "    psnr_20 = psnr(image_20, image_20_generated)\n",
    "    mse_20 = mse(image_20, image_20_generated)\n",
    "    fid_20, kid_20 = calculate_fid_kid(image_20, image_20_generated)\n",
    "    \n",
    "    ssim_40 = ssim(image_40, image_40_generated, multichannel=True, win_size=3)\n",
    "    psnr_40 = psnr(image_40, image_40_generated)\n",
    "    mse_40 = mse(image_40, image_40_generated)\n",
    "    fid_40, kid_40 = calculate_fid_kid(image_40, image_40_generated)\n",
    "    \n",
    "    results.append({\n",
    "        'file': base_name,\n",
    "        'ssim_20': ssim_20, 'psnr_20': psnr_20, 'mse_20': mse_20, 'fid_20': fid_20, 'kid_20': kid_20,\n",
    "        'ssim_40': ssim_40, 'psnr_40': psnr_40, 'mse_40': mse_40, 'fid_40': fid_40, 'kid_40': kid_40,\n",
    "    })\n",
    "\n",
    "# Plot sample images\n",
    "fig, axs = plt.subplots(5, 4, figsize=(15, 15))\n",
    "for i, ((orig_20, gen_20), (orig_40, gen_40)) in enumerate(zip(sample_images_20, sample_images_40)):\n",
    "    axs[i, 0].imshow(cv2.cvtColor(orig_20, cv2.COLOR_BGR2RGB))\n",
    "    axs[i, 0].set_title(f'Sample {i+1} - 20x Original')\n",
    "    axs[i, 0].axis('off')\n",
    "    \n",
    "    axs[i, 1].imshow(cv2.cvtColor(gen_20, cv2.COLOR_BGR2RGB))\n",
    "    axs[i, 1].set_title(f'Sample {i+1} - 20x Generated')\n",
    "    axs[i, 1].axis('off')\n",
    "    \n",
    "    axs[i, 2].imshow(cv2.cvtColor(orig_40, cv2.COLOR_BGR2RGB))\n",
    "    axs[i, 2].set_title(f'Sample {i+1} - 40x Original')\n",
    "    axs[i, 2].axis('off')\n",
    "    \n",
    "    axs[i, 3].imshow(cv2.cvtColor(gen_40, cv2.COLOR_BGR2RGB))\n",
    "    axs[i, 3].set_title(f'Sample {i+1} - 40x Generated')\n",
    "    axs[i, 3].axis('off')\n",
    "\n",
    "plt.tight_layout()\n",
    "plt.show()\n",
    "\n",
    "# Plot FID scores\n",
    "fid_20_scores = [result['fid_20'] for result in results]\n",
    "fid_40_scores = [result['fid_40'] for result in results]\n",
    "\n",
    "x = np.arange(len(results))\n",
    "width = 0.35\n",
    "\n",
    "fig, ax = plt.subplots(figsize=(12, 6))\n",
    "rects1 = ax.bar(x - width/2, fid_20_scores, width, label='FID 20x')\n",
    "rects2 = ax.bar(x + width/2, fid_40_scores, width, label='FID 40x')\n",
    "\n",
    "ax.set_xlabel('Sample Index')\n",
    "ax.set_ylabel('FID Score')\n",
    "ax.set_title('FID Scores for 20x and 40x Images')\n",
    "ax.legend()\n",
    "\n",
    "plt.show()\n",
    "\n",
    "# Save results to a CSV file\n",
    "import pandas as pd\n",
    "results_df = pd.DataFrame(results)\n",
    "results_df.to_csv(os.path.join(output_path, 'comparison_metrics.csv'), index=False)\n",
    "\n",
    "results_df.head()\n",
    " "
   ]
  }
 ],
 "metadata": {
  "kernelspec": {
   "display_name": "upscaler",
   "language": "python",
   "name": "python3"
  },
  "language_info": {
   "codemirror_mode": {
    "name": "ipython",
    "version": 3
   },
   "file_extension": ".py",
   "mimetype": "text/x-python",
   "name": "python",
   "nbconvert_exporter": "python",
   "pygments_lexer": "ipython3",
   "version": "3.9.19"
  }
 },
 "nbformat": 4,
 "nbformat_minor": 2
}
