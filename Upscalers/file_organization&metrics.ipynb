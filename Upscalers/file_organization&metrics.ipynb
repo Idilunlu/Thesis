{
 "cells": [
  {
   "cell_type": "markdown",
   "metadata": {},
   "source": [
    "This code is built for the analysis of patches from a single WSI. \n",
    "\n",
    "To iterate over the multiple, paths should be adjusted respectively. \n",
    "\n",
    "The original folder consists of x_10.png, x_20.png, x_40.png, x_20_generated.png, x_40_generated.png patches. \n",
    "\n",
    "This script organizes generated folders into respective different folders and then calculate the metrics for quality assesment of generated images"
   ]
  },
  {
   "cell_type": "code",
   "execution_count": 15,
   "metadata": {},
   "outputs": [
    {
     "name": "stdout",
     "output_type": "stream",
     "text": [
      "Files have been copied to the respective folders.\n"
     ]
    }
   ],
   "source": [
    "import os\n",
    "import shutil\n",
    "\n",
    "# path to randomly selected slide ID \n",
    "folder_path = '/Users/idilunlu/Desktop/upscaler/8624293b-7775-11eb-9a27-001a7dda7111' \n",
    "# Update this with your actual folder path\n",
    "\n",
    "destination_20 = os.path.join(folder_path, '20_files')\n",
    "destination_40 = os.path.join(folder_path, '40_files')\n",
    "\n",
    "os.makedirs(destination_20, exist_ok=True)\n",
    "os.makedirs(destination_40, exist_ok=True)\n",
    "\n",
    "# Loop through the files \n",
    "for filename in os.listdir(folder_path):\n",
    "    if filename.endswith(\"20_generated.png\"):\n",
    "        base_name = filename.replace('_20_generated.png', '')\n",
    "        # Copy the _20_generated.png file\n",
    "        shutil.copy(os.path.join(folder_path, filename), os.path.join(destination_20, filename))\n",
    "        # Copy the corresponding _20.png file if it exists\n",
    "        corresponding_file = base_name + '_20.png'\n",
    "        if os.path.exists(os.path.join(folder_path, corresponding_file)):\n",
    "            shutil.copy(os.path.join(folder_path, corresponding_file), os.path.join(destination_20, corresponding_file))\n",
    "    elif filename.endswith(\"40_generated.png\"):\n",
    "        base_name = filename.replace('_40_generated.png', '')\n",
    "        # Copy the _40_generated.png file\n",
    "        shutil.copy(os.path.join(folder_path, filename), os.path.join(destination_40, filename))\n",
    "        # Copy the corresponding _40.png file if it exists\n",
    "        corresponding_file = base_name + '_40.png'\n",
    "        if os.path.exists(os.path.join(folder_path, corresponding_file)):\n",
    "            shutil.copy(os.path.join(folder_path, corresponding_file), os.path.join(destination_40, corresponding_file))\n",
    "\n",
    "print(\"Files have been copied to the respective folders.\")\n"
   ]
  },
  {
   "cell_type": "code",
   "execution_count": 17,
   "metadata": {},
   "outputs": [
    {
     "name": "stdout",
     "output_type": "stream",
     "text": [
      "Deleted 317_20.png\n",
      "Deleted 446_20.png\n",
      "Deleted 217_20.png\n",
      "Deleted 546_20.png\n",
      "Deleted 1195_20.png\n",
      "Deleted 1473_20.png\n",
      "Deleted 1322_20.png\n",
      "Deleted 899_20.png\n",
      "Deleted 1095_20.png\n",
      "Deleted 1573_20.png\n",
      "Deleted 1222_20.png\n",
      "Deleted 999_20.png\n",
      "Deleted 309_20.png\n",
      "Deleted 458_20.png\n",
      "Deleted 209_20.png\n",
      "Deleted 558_20.png\n",
      "Deleted 1410_20.png\n",
      "Deleted 1341_20.png\n",
      "Deleted 1510_20.png\n",
      "Deleted 1241_20.png\n",
      "Deleted 692_20.png\n",
      "Deleted 374_20.png\n",
      "Deleted 425_20.png\n",
      "Deleted 82_20.png\n",
      "Deleted 792_20.png\n",
      "Deleted 274_20.png\n",
      "Deleted 525_20.png\n",
      "Deleted 887_20.png\n",
      "Deleted 987_20.png\n",
      "Deleted 554_20.png\n",
      "Deleted 205_20.png\n",
      "Deleted 454_20.png\n",
      "Deleted 305_20.png\n",
      "Deleted 1230_20.png\n",
      "Deleted 1561_20.png\n",
      "Deleted 1087_20.png\n",
      "Deleted 1330_20.png\n",
      "Deleted 1461_20.png\n",
      "Deleted 1187_20.png\n",
      "Deleted 529_20.png\n",
      "Deleted 278_20.png\n",
      "Deleted 429_20.png\n",
      "Deleted 378_20.png\n",
      "Deleted 1253_20.png\n",
      "Deleted 1502_20.png\n",
      "Deleted 1353_20.png\n",
      "Deleted 1402_20.png\n",
      "Deleted 1199_20.png\n"
     ]
    }
   ],
   "source": [
    "# Set the directory path where the files are located\n",
    "directory_path = '/Users/idilunlu/Desktop/upscaler/8624293b-7775-11eb-9a27-001a7dda7111/20_files'\n",
    "\n",
    "# Iterate over the files in the directory\n",
    "for filename in os.listdir(directory_path):\n",
    "    if filename.endswith(\"_20.png\") and not filename.endswith(\"_20_generated.png\"):\n",
    "        # Construct the full path to the file\n",
    "        file_path = os.path.join(directory_path, filename)\n",
    "        # Delete the file\n",
    "        os.remove(file_path)\n",
    "        print(f\"Deleted {filename}\")\n"
   ]
  },
  {
   "cell_type": "code",
   "execution_count": 11,
   "metadata": {},
   "outputs": [],
   "source": [
    "import numpy as np\n",
    "from skimage import io, img_as_float\n",
    "from skimage.metrics import structural_similarity as ssim\n",
    "from skimage.metrics import peak_signal_noise_ratio as psnr\n",
    "from scipy import linalg\n",
    "from scipy.spatial import distance\n",
    "import torch\n",
    "import torchvision.transforms as transforms\n",
    "from torchvision.models import inception_v3\n",
    "import torch.nn.functional as F\n",
    "from PIL import Image\n",
    "\n",
    "# Paths to image folders\n",
    "original_folder = '/Users/idilunlu/Desktop/upscaler/8624293b-7775-11eb-9a27-001a7dda7111'  # Update this with your actual path\n",
    "generated_folder_20 = '/Users/idilunlu/Desktop/upscaler/8624293b-7775-11eb-9a27-001a7dda7111/20_files'    # Update this with your actual path\n",
    "generated_folder_40 = '/Users/idilunlu/Desktop/upscaler/8624293b-7775-11eb-9a27-001a7dda7111/40_files'    # Update this with your actual path"
   ]
  },
  {
   "cell_type": "markdown",
   "metadata": {},
   "source": [
    "### Performance Metrics Calculator"
   ]
  },
  {
   "cell_type": "code",
   "execution_count": 13,
   "metadata": {},
   "outputs": [
    {
     "name": "stdout",
     "output_type": "stream",
     "text": [
      "Metrics for 20 generated images: {'PSNR': 24.4357573994683, 'MSE': 0.0037269711688408392}\n",
      "Metrics for 40 generated images: {'PSNR': 23.186037926194654, 'MSE': 0.004999256733550635}\n"
     ]
    }
   ],
   "source": [
    "# Function to resize images\n",
    "def resize_image(image, size):\n",
    "    if size[0] < MIN_SIZE or size[1] < MIN_SIZE:\n",
    "        size = (MIN_SIZE, MIN_SIZE)\n",
    "    image_pil = Image.fromarray((image * 255).astype(np.uint8))\n",
    "    resized_image_pil = image_pil.resize(size, Image.BILINEAR)\n",
    "    return np.array(resized_image_pil) / 255.0\n",
    "\n",
    "# Calculate MSE\n",
    "def mse(imageA, imageB):\n",
    "    return np.mean((imageA - imageB) ** 2)\n",
    "\n",
    "# PSNR Calculation\n",
    "def calculate_psnr(mse, max_pixel_value=1.0):\n",
    "    if mse == 0:\n",
    "        return float('inf')\n",
    "    return 10 * np.log10(max_pixel_value ** 2 / mse)\n",
    "\n",
    "# Calculate PSNR and MSE\n",
    "def calculate_metrics(original_folder, generated_folder):\n",
    "    psnr_scores = []\n",
    "    mse_scores = []\n",
    "\n",
    "    for file in os.listdir(generated_folder):\n",
    "        original_file = os.path.join(original_folder, file.replace('_generated', ''))\n",
    "        generated_file = os.path.join(generated_folder, file)\n",
    "        if os.path.exists(original_file) and os.path.exists(generated_file):\n",
    "            original_img = img_as_float(io.imread(original_file))\n",
    "            generated_img = img_as_float(io.imread(generated_file))\n",
    "\n",
    "            # Ensure images are in the correct format\n",
    "            if original_img.ndim == 2:\n",
    "                original_img = np.stack([original_img]*3, axis=-1)\n",
    "            if generated_img.ndim == 2:\n",
    "                generated_img = np.stack([generated_img]*3, axis=-1)\n",
    "\n",
    "            # Resize images to the same dimensions\n",
    "            min_shape = (min(original_img.shape[0], generated_img.shape[0]),\n",
    "                         min(original_img.shape[1], generated_img.shape[1]))\n",
    "            original_img = resize_image(original_img, min_shape)\n",
    "            generated_img = resize_image(generated_img, min_shape)\n",
    "\n",
    "            # Debugging statements to print shapes\n",
    "            # print(f\"Original image shape after resizing: {original_img.shape}\")\n",
    "            # print(f\"Generated image shape after resizing: {generated_img.shape}\")\n",
    "\n",
    "            mse_score = mse(original_img, generated_img)\n",
    "            psnr_score = calculate_psnr(mse_score)\n",
    "\n",
    "            psnr_scores.append(psnr_score)\n",
    "            mse_scores.append(mse_score)\n",
    "\n",
    "    return {\n",
    "        'PSNR': np.mean(psnr_scores),\n",
    "        'MSE': np.mean(mse_scores)\n",
    "    }\n",
    "\n",
    "metrics_20 = calculate_metrics(original_folder, generated_folder_20)\n",
    "metrics_40 = calculate_metrics(original_folder, generated_folder_40)\n",
    "\n",
    "print(\"Metrics for 20 generated images:\", metrics_20)\n",
    "print(\"Metrics for 40 generated images:\", metrics_40)"
   ]
  },
  {
   "cell_type": "code",
   "execution_count": 14,
   "metadata": {},
   "outputs": [
    {
     "name": "stdout",
     "output_type": "stream",
     "text": [
      "Original image shape after resizing: (224, 224, 3)\n",
      "Generated image shape after resizing: (224, 224, 3)\n"
     ]
    },
    {
     "ename": "ValueError",
     "evalue": "win_size exceeds image extent. Either ensure that your images are at least 7x7; or pass win_size explicitly in the function call, with an odd value less than or equal to the smaller side of your images. If your images are multichannel (with color channels), set channel_axis to the axis number corresponding to the channels.",
     "output_type": "error",
     "traceback": [
      "\u001b[0;31m---------------------------------------------------------------------------\u001b[0m",
      "\u001b[0;31mValueError\u001b[0m                                Traceback (most recent call last)",
      "Cell \u001b[0;32mIn[14], line 39\u001b[0m\n\u001b[1;32m     34\u001b[0m     \u001b[38;5;28;01mreturn\u001b[39;00m {\n\u001b[1;32m     35\u001b[0m         \u001b[38;5;124m'\u001b[39m\u001b[38;5;124mSSIM\u001b[39m\u001b[38;5;124m'\u001b[39m: np\u001b[38;5;241m.\u001b[39mmean(ssim_scores)\n\u001b[1;32m     36\u001b[0m     }\n\u001b[1;32m     38\u001b[0m \u001b[38;5;66;03m# Calculate and print SSIM metrics for 20 and 40 generated images\u001b[39;00m\n\u001b[0;32m---> 39\u001b[0m metrics_ssim_20 \u001b[38;5;241m=\u001b[39m \u001b[43mcalculate_ssim\u001b[49m\u001b[43m(\u001b[49m\u001b[43moriginal_folder\u001b[49m\u001b[43m,\u001b[49m\u001b[43m \u001b[49m\u001b[43mgenerated_folder_20\u001b[49m\u001b[43m)\u001b[49m\n\u001b[1;32m     40\u001b[0m metrics_ssim_40 \u001b[38;5;241m=\u001b[39m calculate_ssim(original_folder, generated_folder_40)\n\u001b[1;32m     42\u001b[0m \u001b[38;5;28mprint\u001b[39m(\u001b[38;5;124m\"\u001b[39m\u001b[38;5;124mSSIM for 20 generated images:\u001b[39m\u001b[38;5;124m\"\u001b[39m, metrics_ssim_20)\n",
      "Cell \u001b[0;32mIn[14], line 27\u001b[0m, in \u001b[0;36mcalculate_ssim\u001b[0;34m(original_folder, generated_folder)\u001b[0m\n\u001b[1;32m     24\u001b[0m \u001b[38;5;28mprint\u001b[39m(\u001b[38;5;124mf\u001b[39m\u001b[38;5;124m\"\u001b[39m\u001b[38;5;124mOriginal image shape after resizing: \u001b[39m\u001b[38;5;132;01m{\u001b[39;00moriginal_img\u001b[38;5;241m.\u001b[39mshape\u001b[38;5;132;01m}\u001b[39;00m\u001b[38;5;124m\"\u001b[39m)\n\u001b[1;32m     25\u001b[0m \u001b[38;5;28mprint\u001b[39m(\u001b[38;5;124mf\u001b[39m\u001b[38;5;124m\"\u001b[39m\u001b[38;5;124mGenerated image shape after resizing: \u001b[39m\u001b[38;5;132;01m{\u001b[39;00mgenerated_img\u001b[38;5;241m.\u001b[39mshape\u001b[38;5;132;01m}\u001b[39;00m\u001b[38;5;124m\"\u001b[39m)\n\u001b[0;32m---> 27\u001b[0m ssim_score \u001b[38;5;241m=\u001b[39m \u001b[43mssim\u001b[49m\u001b[43m(\u001b[49m\u001b[43moriginal_img\u001b[49m\u001b[43m,\u001b[49m\u001b[43m \u001b[49m\u001b[43mgenerated_img\u001b[49m\u001b[43m,\u001b[49m\u001b[43m \u001b[49m\u001b[43mmultichannel\u001b[49m\u001b[38;5;241;43m=\u001b[39;49m\u001b[38;5;28;43;01mTrue\u001b[39;49;00m\u001b[43m)\u001b[49m\n\u001b[1;32m     29\u001b[0m \u001b[38;5;66;03m# Additional debugging information\u001b[39;00m\n\u001b[1;32m     30\u001b[0m \u001b[38;5;28mprint\u001b[39m(\u001b[38;5;124mf\u001b[39m\u001b[38;5;124m\"\u001b[39m\u001b[38;5;124mSSIM for \u001b[39m\u001b[38;5;132;01m{\u001b[39;00mfile\u001b[38;5;132;01m}\u001b[39;00m\u001b[38;5;124m: \u001b[39m\u001b[38;5;132;01m{\u001b[39;00mssim_score\u001b[38;5;132;01m}\u001b[39;00m\u001b[38;5;124m\"\u001b[39m)\n",
      "File \u001b[0;32m~/miniconda3/envs/upscaler/lib/python3.9/site-packages/skimage/metrics/_structural_similarity.py:178\u001b[0m, in \u001b[0;36mstructural_similarity\u001b[0;34m(im1, im2, win_size, gradient, data_range, channel_axis, gaussian_weights, full, **kwargs)\u001b[0m\n\u001b[1;32m    175\u001b[0m         win_size \u001b[38;5;241m=\u001b[39m \u001b[38;5;241m7\u001b[39m   \u001b[38;5;66;03m# backwards compatibility\u001b[39;00m\n\u001b[1;32m    177\u001b[0m \u001b[38;5;28;01mif\u001b[39;00m np\u001b[38;5;241m.\u001b[39many((np\u001b[38;5;241m.\u001b[39masarray(im1\u001b[38;5;241m.\u001b[39mshape) \u001b[38;5;241m-\u001b[39m win_size) \u001b[38;5;241m<\u001b[39m \u001b[38;5;241m0\u001b[39m):\n\u001b[0;32m--> 178\u001b[0m     \u001b[38;5;28;01mraise\u001b[39;00m \u001b[38;5;167;01mValueError\u001b[39;00m(\n\u001b[1;32m    179\u001b[0m         \u001b[38;5;124m'\u001b[39m\u001b[38;5;124mwin_size exceeds image extent. \u001b[39m\u001b[38;5;124m'\u001b[39m\n\u001b[1;32m    180\u001b[0m         \u001b[38;5;124m'\u001b[39m\u001b[38;5;124mEither ensure that your images are \u001b[39m\u001b[38;5;124m'\u001b[39m\n\u001b[1;32m    181\u001b[0m         \u001b[38;5;124m'\u001b[39m\u001b[38;5;124mat least 7x7; or pass win_size explicitly \u001b[39m\u001b[38;5;124m'\u001b[39m\n\u001b[1;32m    182\u001b[0m         \u001b[38;5;124m'\u001b[39m\u001b[38;5;124min the function call, with an odd value \u001b[39m\u001b[38;5;124m'\u001b[39m\n\u001b[1;32m    183\u001b[0m         \u001b[38;5;124m'\u001b[39m\u001b[38;5;124mless than or equal to the smaller side of your \u001b[39m\u001b[38;5;124m'\u001b[39m\n\u001b[1;32m    184\u001b[0m         \u001b[38;5;124m'\u001b[39m\u001b[38;5;124mimages. If your images are multichannel \u001b[39m\u001b[38;5;124m'\u001b[39m\n\u001b[1;32m    185\u001b[0m         \u001b[38;5;124m'\u001b[39m\u001b[38;5;124m(with color channels), set channel_axis to \u001b[39m\u001b[38;5;124m'\u001b[39m\n\u001b[1;32m    186\u001b[0m         \u001b[38;5;124m'\u001b[39m\u001b[38;5;124mthe axis number corresponding to the channels.\u001b[39m\u001b[38;5;124m'\u001b[39m)\n\u001b[1;32m    188\u001b[0m \u001b[38;5;28;01mif\u001b[39;00m \u001b[38;5;129;01mnot\u001b[39;00m (win_size \u001b[38;5;241m%\u001b[39m \u001b[38;5;241m2\u001b[39m \u001b[38;5;241m==\u001b[39m \u001b[38;5;241m1\u001b[39m):\n\u001b[1;32m    189\u001b[0m     \u001b[38;5;28;01mraise\u001b[39;00m \u001b[38;5;167;01mValueError\u001b[39;00m(\u001b[38;5;124m'\u001b[39m\u001b[38;5;124mWindow size must be odd.\u001b[39m\u001b[38;5;124m'\u001b[39m)\n",
      "\u001b[0;31mValueError\u001b[0m: win_size exceeds image extent. Either ensure that your images are at least 7x7; or pass win_size explicitly in the function call, with an odd value less than or equal to the smaller side of your images. If your images are multichannel (with color channels), set channel_axis to the axis number corresponding to the channels."
     ]
    }
   ],
   "source": [
    "def calculate_ssim(original_folder, generated_folder):\n",
    "    ssim_scores = []\n",
    "\n",
    "    for file in os.listdir(generated_folder):\n",
    "        original_file = os.path.join(original_folder, file.replace('_generated', ''))\n",
    "        generated_file = os.path.join(generated_folder, file)\n",
    "        if os.path.exists(original_file) and os.path.exists(generated_file):\n",
    "            original_img = img_as_float(io.imread(original_file))\n",
    "            generated_img = img_as_float(io.imread(generated_file))\n",
    "\n",
    "            # Ensure images are in the correct format\n",
    "            if original_img.ndim == 2:\n",
    "                original_img = np.stack([original_img]*3, axis=-1)\n",
    "            if generated_img.ndim == 2:\n",
    "                generated_img = np.stack([generated_img]*3, axis=-1)\n",
    "\n",
    "            # Resize images to the same dimensions\n",
    "            min_shape = (min(original_img.shape[0], generated_img.shape[0]),\n",
    "                         min(original_img.shape[1], generated_img.shape[1]))\n",
    "            original_img = resize_image(original_img, min_shape)\n",
    "            generated_img = resize_image(generated_img, min_shape)\n",
    "\n",
    "            # Debugging statements to print shapes and values\n",
    "            print(f\"Original image shape after resizing: {original_img.shape}\")\n",
    "            print(f\"Generated image shape after resizing: {generated_img.shape}\")\n",
    "\n",
    "            ssim_score = ssim(original_img, generated_img, multichannel=True)\n",
    "\n",
    "            # Additional debugging information\n",
    "            print(f\"SSIM for {file}: {ssim_score}\")\n",
    "\n",
    "            ssim_scores.append(ssim_score)\n",
    "\n",
    "    return {\n",
    "        'SSIM': np.mean(ssim_scores)\n",
    "    }\n",
    "\n",
    "# Calculate and print SSIM metrics for 20 and 40 generated images\n",
    "metrics_ssim_20 = calculate_ssim(original_folder, generated_folder_20)\n",
    "metrics_ssim_40 = calculate_ssim(original_folder, generated_folder_40)\n",
    "\n",
    "print(\"SSIM for 20 generated images:\", metrics_ssim_20)\n",
    "print(\"SSIM for 40 generated images:\", metrics_ssim_40)"
   ]
  }
 ],
 "metadata": {
  "kernelspec": {
   "display_name": "upscaler",
   "language": "python",
   "name": "python3"
  },
  "language_info": {
   "codemirror_mode": {
    "name": "ipython",
    "version": 3
   },
   "file_extension": ".py",
   "mimetype": "text/x-python",
   "name": "python",
   "nbconvert_exporter": "python",
   "pygments_lexer": "ipython3",
   "version": "3.9.19"
  }
 },
 "nbformat": 4,
 "nbformat_minor": 2
}
