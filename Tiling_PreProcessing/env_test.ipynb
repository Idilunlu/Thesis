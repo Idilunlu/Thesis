{
 "cells": [
  {
   "cell_type": "markdown",
   "id": "90566d11",
   "metadata": {},
   "source": [
    "## The script to check if all the dependencies are met correctly \n",
    "## for UNI and CHIEF different timm versions are used "
   ]
  },
  {
   "cell_type": "code",
   "execution_count": 11,
   "id": "1c21f51a-d518-4aef-9d57-b028e0dc1e64",
   "metadata": {},
   "outputs": [],
   "source": [
    "coord_path = \"/n/scratch/users/i/idu675/MGB_coords/2_StageInII_MGH_35_Controls_BWHScanner/patch_coord\""
   ]
  },
  {
   "cell_type": "code",
   "execution_count": 7,
   "id": "ff1805b6-d348-4d80-bc84-b74ad2fd7018",
   "metadata": {},
   "outputs": [],
   "source": [
    "import os\n",
    "import torch\n",
    "import torch.nn as nn\n",
    "from torchvision import transforms\n",
    "#from models.ctran import ctranspath\n",
    "#from models.ctrans import ctranspath\n",
    "from timm.models.layers.helpers import to_2tuple\n",
    "import timm\n",
    "import h5py\n",
    "import openslide\n",
    "from glob import glob\n",
    "import argparse\n",
    "from tqdm import tqdm\n",
    "import logging"
   ]
  },
  {
   "cell_type": "code",
   "execution_count": 3,
   "id": "1978805d-c44f-41be-874b-7ba549a15c93",
   "metadata": {},
   "outputs": [
    {
     "name": "stdout",
     "output_type": "stream",
     "text": [
      "2.4.0+cu121\n",
      "0.5.4\n"
     ]
    }
   ],
   "source": [
    "import torch\n",
    "import timm\n",
    "print(torch.__version__)\n",
    "print(timm.__version__)"
   ]
  },
  {
   "cell_type": "code",
   "execution_count": 1,
   "id": "3accd419-07d5-4fd3-88cb-e1ecce1fff87",
   "metadata": {},
   "outputs": [
    {
     "name": "stdout",
     "output_type": "stream",
     "text": [
      "2.3.0+cu121\n",
      "0.18.1+cu121\n",
      "2.3.0+cu121\n"
     ]
    }
   ],
   "source": [
    "import torch\n",
    "import torchvision\n",
    "import torchaudio\n",
    "\n",
    "print(torch.__version__)\n",
    "print(torchvision.__version__)\n",
    "print(torchaudio.__version__)"
   ]
  },
  {
   "cell_type": "code",
   "execution_count": 3,
   "id": "c2f4b5e8-b06a-4daf-9631-e37f83e746d8",
   "metadata": {},
   "outputs": [
    {
     "name": "stdout",
     "output_type": "stream",
     "text": [
      "2.3.0+cu121\n",
      "typing.Union[str, torch.device, int]\n"
     ]
    }
   ],
   "source": [
    "!python -c \"import torch; print(torch.__version__); from torch._prims_common import DeviceLikeType; print(DeviceLikeType)\""
   ]
  },
  {
   "cell_type": "code",
   "execution_count": 4,
   "id": "8854fc16-36a1-4956-96e7-218874208e1e",
   "metadata": {},
   "outputs": [
    {
     "name": "stdout",
     "output_type": "stream",
     "text": [
      "/home/idu675/.conda/envs/notebookenv/bin/python\n"
     ]
    }
   ],
   "source": [
    "!which python"
   ]
  },
  {
   "cell_type": "code",
   "execution_count": 14,
   "id": "cbb7f515-bee3-4bf1-8068-2f08b237fe5a",
   "metadata": {},
   "outputs": [
    {
     "name": "stdout",
     "output_type": "stream",
     "text": [
      "Found 35 h5 files to process\n"
     ]
    }
   ],
   "source": [
    "h5file = glob(os.path.join(coord_path,\"*.h5\"))\n",
    "logging.info(f\"coord_path set to: {coord_path}\")\n",
    "\n",
    "if not h5file:\n",
    "    logging.warning(f\"No h5 files found in path: {coord_path}\")   \n",
    "else:\n",
    "    print(f\"Found {len(h5file)} h5 files to process\")"
   ]
  },
  {
   "cell_type": "code",
   "execution_count": 5,
   "id": "71338274-f07b-456f-a577-3d2e145730fc",
   "metadata": {},
   "outputs": [
    {
     "name": "stdout",
     "output_type": "stream",
     "text": [
      "OpenCV is installed.\n"
     ]
    }
   ],
   "source": [
    "try:\n",
    "    import cv2\n",
    "    print(\"OpenCV is installed.\")\n",
    "except ImportError:\n",
    "    print(\"OpenCV is not installed.\")\n"
   ]
  },
  {
   "cell_type": "code",
   "execution_count": 1,
   "id": "70823822-e9fe-4f43-a129-c0188b378a58",
   "metadata": {},
   "outputs": [
    {
     "name": "stdout",
     "output_type": "stream",
     "text": [
      "0.5.4\n"
     ]
    }
   ],
   "source": [
    "import timm\n",
    "print(timm.__version__)\n"
   ]
  },
  {
   "cell_type": "code",
   "execution_count": null,
   "id": "340057aa-3f1d-456e-bbd7-c57ee9d85147",
   "metadata": {},
   "outputs": [],
   "source": []
  }
 ],
 "metadata": {
  "kernelspec": {
   "display_name": "Python 3 (ipykernel)",
   "language": "python",
   "name": "python3"
  },
  "language_info": {
   "codemirror_mode": {
    "name": "ipython",
    "version": 3
   },
   "file_extension": ".py",
   "mimetype": "text/x-python",
   "name": "python",
   "nbconvert_exporter": "python",
   "pygments_lexer": "ipython3",
   "version": "3.11.9"
  }
 },
 "nbformat": 4,
 "nbformat_minor": 5
}
