{
 "cells": [
  {
   "cell_type": "code",
   "execution_count": 5,
   "id": "b8a1e27d-2f9e-4c1e-a44c-89e438899db3",
   "metadata": {},
   "outputs": [],
   "source": [
    "import cv2\n",
    "import numpy as np\n",
    "import os"
   ]
  },
  {
   "cell_type": "code",
   "execution_count": 8,
   "id": "24380366-1c0f-46fc-96ab-a1d1710acdc7",
   "metadata": {},
   "outputs": [],
   "source": [
    "def calculate_psnr(img1, img2):\n",
    "    mse = np.mean((img1 - img2) ** 2)\n",
    "    if mse == 0:\n",
    "        return float('inf')  # Infinite PSNR means no difference\n",
    "    PIXEL_MAX = 255.0\n",
    "    return 20 * np.log10(PIXEL_MAX / np.sqrt(mse))\n",
    "\n",
    "def average_psnr(folder_path):\n",
    "    files = [os.path.join(folder_path, f) for f in os.listdir(folder_path) if f.endswith('.png')]\n",
    "    psnr_values = []\n",
    "    n = len(files)\n",
    "    \n",
    "    # Compare each image with every other image\n",
    "    for i in range(n):\n",
    "        for j in range(i + 1, n):\n",
    "            img1 = cv2.imread(files[i])\n",
    "            img2 = cv2.imread(files[j])\n",
    "            psnr = calculate_psnr(img1, img2)\n",
    "            psnr_values.append(psnr)\n",
    "    \n",
    "    # Calculate average PSNR\n",
    "    if psnr_values:\n",
    "        average_psnr = sum(psnr_values) / len(psnr_values)\n",
    "        return average_psnr\n",
    "    else:\n",
    "        return None"
   ]
  },
  {
   "cell_type": "code",
   "execution_count": null,
   "id": "22dba8fe-2761-4e6a-a28f-70f1e83c744c",
   "metadata": {},
   "outputs": [
    {
     "name": "stdout",
     "output_type": "stream",
     "text": [
      "Average PSNR: 28.36864038591047\n"
     ]
    }
   ],
   "source": [
    "folder_path = '/home/idu675/projects/Thesis/Dreambooth/outputs2_filtered'\n",
    "print(\"Average PSNR:\", average_psnr(folder_path))"
   ]
  }
 ],
 "metadata": {
  "kernelspec": {
   "display_name": "Python 3 (ipykernel)",
   "language": "python",
   "name": "python3"
  },
  "language_info": {
   "codemirror_mode": {
    "name": "ipython",
    "version": 3
   },
   "file_extension": ".py",
   "mimetype": "text/x-python",
   "name": "python",
   "nbconvert_exporter": "python",
   "pygments_lexer": "ipython3",
   "version": "3.11.9"
  }
 },
 "nbformat": 4,
 "nbformat_minor": 5
}
