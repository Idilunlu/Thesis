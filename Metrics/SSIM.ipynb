{
 "cells": [
  {
   "cell_type": "code",
   "execution_count": 1,
   "id": "7beb94eb-ae27-49b2-8aa7-b29656b23619",
   "metadata": {},
   "outputs": [],
   "source": [
    "from skimage.metrics import structural_similarity as ssim\n",
    "import matplotlib.pyplot as plt\n",
    "import cv2"
   ]
  },
  {
   "cell_type": "code",
   "execution_count": null,
   "id": "1b72c1de-4fa3-4d37-8bc9-58ebc2c1fa44",
   "metadata": {},
   "outputs": [],
   "source": [
    "def calculate_ssim(image1, image2):\n",
    "    # Convert images to grayscale\n",
    "    gray_image1 = cv2.cvtColor(image1, cv2.COLOR_BGR2GRAY)\n",
    "    gray_image2 = cv2.cvtColor(image2, cv2.COLOR_BGR2GRAY)\n",
    "    \n",
    "    # Calculate SSIM between two images\n",
    "    score, diff = ssim(gray_image1, gray_image2, full=True)\n",
    "    print(\"SSIM: \", score)\n",
    "    \n",
    "    # Visualize the difference\n",
    "    plt.imshow(diff, cmap='coolwarm')\n",
    "    plt.colorbar()\n",
    "    plt.show()\n",
    "\n",
    "real_images_path = '/home/idu675/projects/Thesis/Dreambooth/temp_instance'\n",
    "\n",
    "fake_images_path = '/home/idu675/projects/Thesis/Dreambooth/outputs2_filtered'\n",
    "\n",
    "image1 = cv2.imread('path_to_first_image.jpg')\n",
    "image2 = cv2.imread('path_to_second_image.jpg')\n",
    "\n",
    "calculate_ssim(image1, image2)\n"
   ]
  }
 ],
 "metadata": {
  "kernelspec": {
   "display_name": "Python 3 (ipykernel)",
   "language": "python",
   "name": "python3"
  },
  "language_info": {
   "codemirror_mode": {
    "name": "ipython",
    "version": 3
   },
   "file_extension": ".py",
   "mimetype": "text/x-python",
   "name": "python",
   "nbconvert_exporter": "python",
   "pygments_lexer": "ipython3",
   "version": "3.11.9"
  }
 },
 "nbformat": 4,
 "nbformat_minor": 5
}
