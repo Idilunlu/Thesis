{
 "cells": [
  {
   "cell_type": "code",
   "execution_count": 16,
   "id": "270713b4-474d-4ca3-9e50-aef4b70affe6",
   "metadata": {},
   "outputs": [],
   "source": [
    "import torch\n",
    "import torchvision.transforms as transforms\n",
    "from torchvision.models import inception_v3\n",
    "import numpy as np\n",
    "from PIL import Image\n",
    "import os\n",
    "from scipy.linalg import sqrtm"
   ]
  },
  {
   "cell_type": "code",
   "execution_count": 17,
   "id": "d5e8ae14-d3a9-4379-9c56-dbf860baac1b",
   "metadata": {},
   "outputs": [],
   "source": [
    "def get_features(directory, model, device, transform):\n",
    "    features = []\n",
    "    \n",
    "    for image_name in os.listdir(directory):\n",
    "        image_path = os.path.join(directory, image_name)\n",
    "        if os.path.isfile(image_path): \n",
    "            try:\n",
    "                image = Image.open(image_path).convert(\"RGB\")\n",
    "                image = transform(image).unsqueeze(0).to(device)\n",
    "                with torch.no_grad():\n",
    "                    pred = model(image)\n",
    "                    # Make sure to extract the feature vector before any final classification layers\n",
    "                    if pred.shape[1] != 2048:  # Check if the model outputs the expected 2048-d feature vector\n",
    "                        pred = pred[:, :2048]\n",
    "                    features.append(pred.cpu().numpy().flatten())  # Flatten to avoid shape issues\n",
    "            except Exception as e:\n",
    "                print(f\"Failed to process {image_name}: {e}\")\n",
    "    return np.array(features)\n",
    "\n",
    "def calculate_fid(real_features, fake_features):\n",
    "    if real_features.size == 0 or fake_features.size == 0:\n",
    "        raise ValueError(\"One of the feature arrays is empty. Check your data loading and feature extraction steps.\")\n",
    "    mu1, sigma1 = real_features.mean(axis=0), np.cov(real_features, rowvar=False)\n",
    "    mu2, sigma2 = fake_features.mean(axis=0), np.cov(fake_features, rowvar=False)\n",
    "    \n",
    "    ssdiff = np.sum((mu1 - mu2) ** 2.0)\n",
    "    # covmean = np.linalg.sqrtm(sigma1.dot(sigma2))\n",
    "    \n",
    "    covmean = sqrtm(sigma1.dot(sigma2))\n",
    "    if np.iscomplexobj(covmean):\n",
    "        covmean = covmean.real\n",
    "    \n",
    "    fid = ssdiff + np.trace(sigma1 + sigma2 - 2.0 * covmean)\n",
    "    return fid"
   ]
  },
  {
   "cell_type": "code",
   "execution_count": null,
   "id": "3e031e64-d5f7-46e6-a7ae-12aed61ab28b",
   "metadata": {},
   "outputs": [
    {
     "name": "stdout",
     "output_type": "stream",
     "text": [
      "Using device: cuda\n",
      "FID score: 312.1872743845984\n"
     ]
    }
   ],
   "source": [
    "def main():\n",
    "    # Paths to your real and fake images\n",
    "    real_images_path = '/home/idu675/projects/Thesis/Dreambooth/temp_instance'\n",
    "    fake_images_path = '/home/idu675/projects/Thesis/Dreambooth/outputs_filtered'\n",
    "    \n",
    "    # Image transformations\n",
    "    transform = transforms.Compose([\n",
    "        transforms.Resize((299, 299)),\n",
    "        transforms.ToTensor(),\n",
    "        transforms.Normalize(mean=[0.485, 0.456, 0.406], std=[0.229, 0.224, 0.225]),\n",
    "    ])\n",
    "\n",
    "    device = torch.device(\"cuda\" if torch.cuda.is_available() else \"cpu\")\n",
    "    print(f\"Using device: {device}\")\n",
    "    \n",
    "    # Load Inception model\n",
    "    model = inception_v3(pretrained=True, transform_input=False)\n",
    "    model.fc = torch.nn.Identity()  # Modify the model to return features directly\n",
    "    model.to(device)\n",
    "    model.eval()\n",
    "\n",
    "    # Get features\n",
    "    real_features = get_features(real_images_path, model, device, transform)\n",
    "    fake_features = get_features(fake_images_path, model, device, transform)\n",
    "    \n",
    "    # Calculate FID\n",
    "    # Calculate FID\n",
    "    try:\n",
    "        fid_value = calculate_fid(real_features, fake_features)\n",
    "        print(f'FID score: {fid_value}')\n",
    "    except ValueError as e:\n",
    "        print(e)\n",
    "\n",
    "if __name__ == \"__main__\":\n",
    "    main()"
   ]
  },
  {
   "cell_type": "code",
   "execution_count": null,
   "id": "4a83d985-69bc-4d0f-807c-411992f9af17",
   "metadata": {},
   "outputs": [],
   "source": [
    "# outputs2_filtered: FID score: 309.0241913849678\n",
    "# outputs_filtered: 312.1872743845984\n"
   ]
  }
 ],
 "metadata": {
  "kernelspec": {
   "display_name": "Python 3 (ipykernel)",
   "language": "python",
   "name": "python3"
  },
  "language_info": {
   "codemirror_mode": {
    "name": "ipython",
    "version": 3
   },
   "file_extension": ".py",
   "mimetype": "text/x-python",
   "name": "python",
   "nbconvert_exporter": "python",
   "pygments_lexer": "ipython3",
   "version": "3.11.9"
  }
 },
 "nbformat": 4,
 "nbformat_minor": 5
}
