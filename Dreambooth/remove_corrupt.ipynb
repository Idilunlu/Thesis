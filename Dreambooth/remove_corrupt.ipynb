{
 "cells": [
  {
   "cell_type": "code",
   "execution_count": null,
   "id": "4c589f39-13a5-42a1-a1f1-8492e7c3fc87",
   "metadata": {},
   "outputs": [],
   "source": [
    "import os\n",
    "from PIL import Image\n",
    "\n",
    "class_images_path = \"/home/idu675/projects/Thesis/Dreambooth/temp_instance\"\n",
    "\n",
    "for filename in os.listdir(class_images_path):\n",
    "    file_path = os.path.join(class_images_path, filename)\n",
    "    try:\n",
    "        img = Image.open(file_path)  # Attempt to open the image file\n",
    "        img.verify()  # Verify that it is, in fact, an image\n",
    "    except (IOError, SyntaxError) as e:\n",
    "        print(f\"Removing corrupt image file: {file_path}\")\n",
    "        os.remove(file_path)  # Remove the file if it is corrupt\n"
   ]
  },
  {
   "cell_type": "code",
   "execution_count": null,
   "id": "798577d7-dae6-495c-804b-819ad2104ab2",
   "metadata": {},
   "outputs": [],
   "source": []
  }
 ],
 "metadata": {
  "kernelspec": {
   "display_name": "Python 3 (ipykernel)",
   "language": "python",
   "name": "python3"
  },
  "language_info": {
   "codemirror_mode": {
    "name": "ipython",
    "version": 3
   },
   "file_extension": ".py",
   "mimetype": "text/x-python",
   "name": "python",
   "nbconvert_exporter": "python",
   "pygments_lexer": "ipython3",
   "version": "3.11.9"
  }
 },
 "nbformat": 4,
 "nbformat_minor": 5
}
