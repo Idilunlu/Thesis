{
 "cells": [
  {
   "cell_type": "code",
   "execution_count": null,
   "id": "4f18f5e9-21d3-4537-be16-e81c218218cc",
   "metadata": {},
   "outputs": [],
   "source": [
    "### Conversion"
   ]
  },
  {
   "cell_type": "code",
   "execution_count": null,
   "id": "5be4a44e-7ae9-49f0-a9fd-ab3e7bbe4f88",
   "metadata": {},
   "outputs": [
    {
     "ename": "PermissionError",
     "evalue": "[Errno 13] Permission denied: '/path'",
     "output_type": "error",
     "traceback": [
      "\u001b[0;31m---------------------------------------------------------------------------\u001b[0m",
      "\u001b[0;31mPermissionError\u001b[0m                           Traceback (most recent call last)",
      "Cell \u001b[0;32mIn[1], line 11\u001b[0m\n\u001b[1;32m      8\u001b[0m output_directory \u001b[38;5;241m=\u001b[39m \u001b[38;5;124m'\u001b[39m\u001b[38;5;124m/path/to/save/png/files\u001b[39m\u001b[38;5;124m'\u001b[39m\n\u001b[1;32m     10\u001b[0m \u001b[38;5;28;01mif\u001b[39;00m \u001b[38;5;129;01mnot\u001b[39;00m os\u001b[38;5;241m.\u001b[39mpath\u001b[38;5;241m.\u001b[39mexists(output_directory):\n\u001b[0;32m---> 11\u001b[0m     \u001b[43mos\u001b[49m\u001b[38;5;241;43m.\u001b[39;49m\u001b[43mmakedirs\u001b[49m\u001b[43m(\u001b[49m\u001b[43moutput_directory\u001b[49m\u001b[43m)\u001b[49m\n\u001b[1;32m     13\u001b[0m \u001b[38;5;66;03m# List all .h5 files in the directory\u001b[39;00m\n\u001b[1;32m     14\u001b[0m h5_files \u001b[38;5;241m=\u001b[39m [f \u001b[38;5;28;01mfor\u001b[39;00m f \u001b[38;5;129;01min\u001b[39;00m os\u001b[38;5;241m.\u001b[39mlistdir(h5_directory) \u001b[38;5;28;01mif\u001b[39;00m f\u001b[38;5;241m.\u001b[39mendswith(\u001b[38;5;124m'\u001b[39m\u001b[38;5;124m.h5\u001b[39m\u001b[38;5;124m'\u001b[39m)]\n",
      "File \u001b[0;32m<frozen os>:215\u001b[0m, in \u001b[0;36mmakedirs\u001b[0;34m(name, mode, exist_ok)\u001b[0m\n",
      "File \u001b[0;32m<frozen os>:215\u001b[0m, in \u001b[0;36mmakedirs\u001b[0;34m(name, mode, exist_ok)\u001b[0m\n",
      "    \u001b[0;31m[... skipping similar frames: makedirs at line 215 (1 times)]\u001b[0m\n",
      "File \u001b[0;32m<frozen os>:215\u001b[0m, in \u001b[0;36mmakedirs\u001b[0;34m(name, mode, exist_ok)\u001b[0m\n",
      "File \u001b[0;32m<frozen os>:225\u001b[0m, in \u001b[0;36mmakedirs\u001b[0;34m(name, mode, exist_ok)\u001b[0m\n",
      "\u001b[0;31mPermissionError\u001b[0m: [Errno 13] Permission denied: '/path'"
     ]
    }
   ],
   "source": [
    "import h5py\n",
    "from PIL import Image\n",
    "import os\n",
    "\n",
    "# Directory where your .h5 files are located\n",
    "h5_directory = '/n/data2/hms/dbmi/kyu/lab/che099/data/frozen_patches_20x_mutated'\n",
    "# Directory where you want to save the PNG files\n",
    "output_directory = '/n/data2/hms/dbmi/kyu/lab/che099/data/frozen_patches_20x_mutated'\n",
    "\n",
    "if not os.path.exists(output_directory):\n",
    "    os.makedirs(output_directory)\n",
    "\n",
    "# List all .h5 files in the directory\n",
    "h5_files = [f for f in os.listdir(h5_directory) if f.endswith('.h5')]\n",
    "\n",
    "for file in h5_files:\n",
    "    file_path = os.path.join(h5_directory, file)\n",
    "    with h5py.File(file_path, 'r') as hf:\n",
    "        # Assuming '20' is the dataset name where images are stored\n",
    "        images = hf['20']\n",
    "        for i, img_array in enumerate(images):\n",
    "            # Convert the numpy array to an image\n",
    "            img = Image.fromarray(img_array)\n",
    "            # Save the image as PNG\n",
    "            img.save(os.path.join(output_directory, f'image_{file}_{i}.png'))\n",
    "\n",
    "print(\"All images have been converted and saved as PNG.\")\n"
   ]
  },
  {
   "cell_type": "code",
   "execution_count": null,
   "id": "36f2a8b5-eb04-473b-bb7a-859c4cbcc71e",
   "metadata": {},
   "outputs": [],
   "source": []
  }
 ],
 "metadata": {
  "kernelspec": {
   "display_name": "Python 3 (ipykernel)",
   "language": "python",
   "name": "python3"
  },
  "language_info": {
   "codemirror_mode": {
    "name": "ipython",
    "version": 3
   },
   "file_extension": ".py",
   "mimetype": "text/x-python",
   "name": "python",
   "nbconvert_exporter": "python",
   "pygments_lexer": "ipython3",
   "version": "3.11.9"
  }
 },
 "nbformat": 4,
 "nbformat_minor": 5
}
